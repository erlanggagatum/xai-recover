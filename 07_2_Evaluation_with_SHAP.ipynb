{
 "cells": [
  {
   "cell_type": "code",
   "execution_count": 302,
   "metadata": {},
   "outputs": [
    {
     "name": "stdout",
     "output_type": "stream",
     "text": [
      "The autoreload extension is already loaded. To reload it, use:\n",
      "  %reload_ext autoreload\n"
     ]
    }
   ],
   "source": [
    "import sys\n",
    "sys.path.append('../src')\n",
    "# from causal_shapley import causal_shapley, predict_proba\n",
    "from egtoolkit import *\n",
    "%load_ext autoreload\n",
    "%autoreload 2\n",
    "\n",
    "from egtoolkit import *\n",
    "\n",
    "import random\n",
    "import warnings\n",
    "import numpy as np\n",
    "import pandas as pd\n",
    "from sklearn.datasets import load_breast_cancer\n",
    "from sklearn.model_selection import train_test_split\n",
    "from sklearn.preprocessing import StandardScaler\n",
    "from sklearn.linear_model import LogisticRegression\n",
    "from sklearn.pipeline import make_pipeline\n",
    "import itertools\n",
    "from itertools import combinations, permutations, chain\n",
    "\n",
    "import shap\n",
    "\n",
    "warnings.filterwarnings(\"ignore\")\n",
    "import networkx as nx\n",
    "import matplotlib.pyplot as plt\n",
    "import seaborn as sns\n",
    "\n",
    "from imblearn.under_sampling import RandomUnderSampler\n",
    "\n",
    "from pgmpy.models import BayesianNetwork\n",
    "from pgmpy.inference import VariableElimination\n",
    "from pgmpy.factors.discrete.CPD import TabularCPD"
   ]
  },
  {
   "cell_type": "markdown",
   "metadata": {},
   "source": [
    "## Import dataset"
   ]
  },
  {
   "cell_type": "code",
   "execution_count": 303,
   "metadata": {},
   "outputs": [],
   "source": [
    "categorical_cols = ['global_active_power', 'global_reactive_power', 'voltage',\n",
    "                    'global_intensity', 'kitchen', 'laundry', 'climate_control', 'other',\n",
    "                    'weekend', 'month_name', 'season_name', 'day_name']  # list all columns that are categorical"
   ]
  },
  {
   "cell_type": "code",
   "execution_count": 304,
   "metadata": {},
   "outputs": [],
   "source": [
    "dataset = pd.read_csv('./datasets/2.0-discretized-v2-3-peak-label-encoded.csv')"
   ]
  },
  {
   "cell_type": "code",
   "execution_count": 305,
   "metadata": {},
   "outputs": [
    {
     "data": {
      "text/plain": [
       "array([[False],\n",
       "       [False],\n",
       "       [False],\n",
       "       ...,\n",
       "       [False],\n",
       "       [False],\n",
       "       [False]])"
      ]
     },
     "execution_count": 305,
     "metadata": {},
     "output_type": "execute_result"
    }
   ],
   "source": [
    "dataset[['peak_warning']].values"
   ]
  },
  {
   "cell_type": "code",
   "execution_count": 306,
   "metadata": {},
   "outputs": [],
   "source": [
    "targets = ['peak_label_pred', 'peak_warning', 'no_significant_change', 'lower_than_usual']\n",
    "targets_only = ['peak_label_pred', 'no_significant_change', 'lower_than_usual']"
   ]
  },
  {
   "cell_type": "code",
   "execution_count": 307,
   "metadata": {},
   "outputs": [
    {
     "data": {
      "text/plain": [
       "Index(['global_active_power', 'global_reactive_power', 'voltage',\n",
       "       'global_intensity', 'kitchen', 'laundry', 'climate_control', 'other',\n",
       "       'weekend', 'month_name', 'season_name', 'day_name', 'peak_label_pred',\n",
       "       'peak_warning', 'no_significant_change', 'lower_than_usual'],\n",
       "      dtype='object')"
      ]
     },
     "execution_count": 307,
     "metadata": {},
     "output_type": "execute_result"
    }
   ],
   "source": [
    "dataset.columns"
   ]
  },
  {
   "cell_type": "code",
   "execution_count": 308,
   "metadata": {},
   "outputs": [
    {
     "data": {
      "text/plain": [
       "array([False, False, False, ..., False, False, False])"
      ]
     },
     "execution_count": 308,
     "metadata": {},
     "output_type": "execute_result"
    }
   ],
   "source": [
    "dataset['peak_warning'].values"
   ]
  },
  {
   "cell_type": "code",
   "execution_count": 309,
   "metadata": {},
   "outputs": [
    {
     "data": {
      "text/plain": [
       "(41673, 16)"
      ]
     },
     "execution_count": 309,
     "metadata": {},
     "output_type": "execute_result"
    }
   ],
   "source": [
    "dataset.shape"
   ]
  },
  {
   "cell_type": "code",
   "execution_count": 310,
   "metadata": {},
   "outputs": [],
   "source": [
    "sample = 300\n",
    "background = dataset.drop(columns=targets).sample(sample, random_state=0)\n",
    "indexes = background.index.tolist()"
   ]
  },
  {
   "cell_type": "code",
   "execution_count": 311,
   "metadata": {},
   "outputs": [
    {
     "data": {
      "text/html": [
       "<div>\n",
       "<style scoped>\n",
       "    .dataframe tbody tr th:only-of-type {\n",
       "        vertical-align: middle;\n",
       "    }\n",
       "\n",
       "    .dataframe tbody tr th {\n",
       "        vertical-align: top;\n",
       "    }\n",
       "\n",
       "    .dataframe thead th {\n",
       "        text-align: right;\n",
       "    }\n",
       "</style>\n",
       "<table border=\"1\" class=\"dataframe\">\n",
       "  <thead>\n",
       "    <tr style=\"text-align: right;\">\n",
       "      <th></th>\n",
       "      <th>global_active_power</th>\n",
       "      <th>global_reactive_power</th>\n",
       "      <th>voltage</th>\n",
       "      <th>global_intensity</th>\n",
       "      <th>kitchen</th>\n",
       "      <th>laundry</th>\n",
       "      <th>climate_control</th>\n",
       "      <th>other</th>\n",
       "      <th>weekend</th>\n",
       "      <th>month_name</th>\n",
       "      <th>season_name</th>\n",
       "      <th>day_name</th>\n",
       "      <th>peak_label_pred</th>\n",
       "      <th>peak_warning</th>\n",
       "      <th>no_significant_change</th>\n",
       "      <th>lower_than_usual</th>\n",
       "    </tr>\n",
       "  </thead>\n",
       "  <tbody>\n",
       "    <tr>\n",
       "      <th>35784</th>\n",
       "      <td>Low</td>\n",
       "      <td>Medium</td>\n",
       "      <td>High</td>\n",
       "      <td>Low</td>\n",
       "      <td>Medium</td>\n",
       "      <td>High</td>\n",
       "      <td>Low</td>\n",
       "      <td>Medium</td>\n",
       "      <td>False</td>\n",
       "      <td>november</td>\n",
       "      <td>autumn</td>\n",
       "      <td>thursday</td>\n",
       "      <td>lower_than_usual</td>\n",
       "      <td>False</td>\n",
       "      <td>False</td>\n",
       "      <td>True</td>\n",
       "    </tr>\n",
       "    <tr>\n",
       "      <th>8217</th>\n",
       "      <td>Low</td>\n",
       "      <td>Low</td>\n",
       "      <td>High</td>\n",
       "      <td>Low</td>\n",
       "      <td>High</td>\n",
       "      <td>Medium</td>\n",
       "      <td>Medium</td>\n",
       "      <td>Low</td>\n",
       "      <td>True</td>\n",
       "      <td>october</td>\n",
       "      <td>autumn</td>\n",
       "      <td>saturday</td>\n",
       "      <td>no_significant_change</td>\n",
       "      <td>False</td>\n",
       "      <td>True</td>\n",
       "      <td>False</td>\n",
       "    </tr>\n",
       "    <tr>\n",
       "      <th>13032</th>\n",
       "      <td>Medium</td>\n",
       "      <td>Low</td>\n",
       "      <td>Very High</td>\n",
       "      <td>Medium</td>\n",
       "      <td>Medium</td>\n",
       "      <td>Medium</td>\n",
       "      <td>Low</td>\n",
       "      <td>High</td>\n",
       "      <td>False</td>\n",
       "      <td>december</td>\n",
       "      <td>winter</td>\n",
       "      <td>thursday</td>\n",
       "      <td>no_significant_change</td>\n",
       "      <td>False</td>\n",
       "      <td>True</td>\n",
       "      <td>False</td>\n",
       "    </tr>\n",
       "    <tr>\n",
       "      <th>6450</th>\n",
       "      <td>High</td>\n",
       "      <td>High</td>\n",
       "      <td>Very High</td>\n",
       "      <td>High</td>\n",
       "      <td>Low</td>\n",
       "      <td>High</td>\n",
       "      <td>Very High</td>\n",
       "      <td>High</td>\n",
       "      <td>True</td>\n",
       "      <td>april</td>\n",
       "      <td>spring</td>\n",
       "      <td>sunday</td>\n",
       "      <td>no_significant_change</td>\n",
       "      <td>False</td>\n",
       "      <td>True</td>\n",
       "      <td>False</td>\n",
       "    </tr>\n",
       "    <tr>\n",
       "      <th>36805</th>\n",
       "      <td>High</td>\n",
       "      <td>Low</td>\n",
       "      <td>Very High</td>\n",
       "      <td>High</td>\n",
       "      <td>Medium</td>\n",
       "      <td>Medium</td>\n",
       "      <td>High</td>\n",
       "      <td>Low</td>\n",
       "      <td>True</td>\n",
       "      <td>january</td>\n",
       "      <td>winter</td>\n",
       "      <td>saturday</td>\n",
       "      <td>lower_than_usual</td>\n",
       "      <td>False</td>\n",
       "      <td>False</td>\n",
       "      <td>True</td>\n",
       "    </tr>\n",
       "    <tr>\n",
       "      <th>...</th>\n",
       "      <td>...</td>\n",
       "      <td>...</td>\n",
       "      <td>...</td>\n",
       "      <td>...</td>\n",
       "      <td>...</td>\n",
       "      <td>...</td>\n",
       "      <td>...</td>\n",
       "      <td>...</td>\n",
       "      <td>...</td>\n",
       "      <td>...</td>\n",
       "      <td>...</td>\n",
       "      <td>...</td>\n",
       "      <td>...</td>\n",
       "      <td>...</td>\n",
       "      <td>...</td>\n",
       "      <td>...</td>\n",
       "    </tr>\n",
       "    <tr>\n",
       "      <th>13035</th>\n",
       "      <td>Low</td>\n",
       "      <td>Low</td>\n",
       "      <td>High</td>\n",
       "      <td>Low</td>\n",
       "      <td>Very High</td>\n",
       "      <td>High</td>\n",
       "      <td>High</td>\n",
       "      <td>Low</td>\n",
       "      <td>False</td>\n",
       "      <td>june</td>\n",
       "      <td>summer</td>\n",
       "      <td>monday</td>\n",
       "      <td>no_significant_change</td>\n",
       "      <td>False</td>\n",
       "      <td>True</td>\n",
       "      <td>False</td>\n",
       "    </tr>\n",
       "    <tr>\n",
       "      <th>14078</th>\n",
       "      <td>Very High</td>\n",
       "      <td>Very High</td>\n",
       "      <td>Low</td>\n",
       "      <td>Very High</td>\n",
       "      <td>High</td>\n",
       "      <td>Very High</td>\n",
       "      <td>Very High</td>\n",
       "      <td>High</td>\n",
       "      <td>True</td>\n",
       "      <td>february</td>\n",
       "      <td>winter</td>\n",
       "      <td>sunday</td>\n",
       "      <td>peak_warning</td>\n",
       "      <td>True</td>\n",
       "      <td>False</td>\n",
       "      <td>False</td>\n",
       "    </tr>\n",
       "    <tr>\n",
       "      <th>37704</th>\n",
       "      <td>Low</td>\n",
       "      <td>Medium</td>\n",
       "      <td>Medium</td>\n",
       "      <td>Low</td>\n",
       "      <td>Low</td>\n",
       "      <td>High</td>\n",
       "      <td>Low</td>\n",
       "      <td>Medium</td>\n",
       "      <td>False</td>\n",
       "      <td>february</td>\n",
       "      <td>winter</td>\n",
       "      <td>friday</td>\n",
       "      <td>lower_than_usual</td>\n",
       "      <td>False</td>\n",
       "      <td>False</td>\n",
       "      <td>True</td>\n",
       "    </tr>\n",
       "    <tr>\n",
       "      <th>2616</th>\n",
       "      <td>Medium</td>\n",
       "      <td>Low</td>\n",
       "      <td>Low</td>\n",
       "      <td>Medium</td>\n",
       "      <td>High</td>\n",
       "      <td>Medium</td>\n",
       "      <td>Medium</td>\n",
       "      <td>High</td>\n",
       "      <td>False</td>\n",
       "      <td>march</td>\n",
       "      <td>spring</td>\n",
       "      <td>friday</td>\n",
       "      <td>no_significant_change</td>\n",
       "      <td>False</td>\n",
       "      <td>True</td>\n",
       "      <td>False</td>\n",
       "    </tr>\n",
       "    <tr>\n",
       "      <th>36094</th>\n",
       "      <td>Medium</td>\n",
       "      <td>Very High</td>\n",
       "      <td>Very High</td>\n",
       "      <td>Medium</td>\n",
       "      <td>High</td>\n",
       "      <td>Medium</td>\n",
       "      <td>High</td>\n",
       "      <td>Low</td>\n",
       "      <td>False</td>\n",
       "      <td>september</td>\n",
       "      <td>autumn</td>\n",
       "      <td>wednesday</td>\n",
       "      <td>lower_than_usual</td>\n",
       "      <td>False</td>\n",
       "      <td>False</td>\n",
       "      <td>True</td>\n",
       "    </tr>\n",
       "  </tbody>\n",
       "</table>\n",
       "<p>300 rows × 16 columns</p>\n",
       "</div>"
      ],
      "text/plain": [
       "      global_active_power global_reactive_power    voltage global_intensity  \\\n",
       "35784                 Low                Medium       High              Low   \n",
       "8217                  Low                   Low       High              Low   \n",
       "13032              Medium                   Low  Very High           Medium   \n",
       "6450                 High                  High  Very High             High   \n",
       "36805                High                   Low  Very High             High   \n",
       "...                   ...                   ...        ...              ...   \n",
       "13035                 Low                   Low       High              Low   \n",
       "14078           Very High             Very High        Low        Very High   \n",
       "37704                 Low                Medium     Medium              Low   \n",
       "2616               Medium                   Low        Low           Medium   \n",
       "36094              Medium             Very High  Very High           Medium   \n",
       "\n",
       "         kitchen    laundry climate_control   other  weekend month_name  \\\n",
       "35784     Medium       High             Low  Medium    False   november   \n",
       "8217        High     Medium          Medium     Low     True    october   \n",
       "13032     Medium     Medium             Low    High    False   december   \n",
       "6450         Low       High       Very High    High     True      april   \n",
       "36805     Medium     Medium            High     Low     True    january   \n",
       "...          ...        ...             ...     ...      ...        ...   \n",
       "13035  Very High       High            High     Low    False       june   \n",
       "14078       High  Very High       Very High    High     True   february   \n",
       "37704        Low       High             Low  Medium    False   february   \n",
       "2616        High     Medium          Medium    High    False      march   \n",
       "36094       High     Medium            High     Low    False  september   \n",
       "\n",
       "      season_name   day_name        peak_label_pred  peak_warning  \\\n",
       "35784      autumn   thursday       lower_than_usual         False   \n",
       "8217       autumn   saturday  no_significant_change         False   \n",
       "13032      winter   thursday  no_significant_change         False   \n",
       "6450       spring     sunday  no_significant_change         False   \n",
       "36805      winter   saturday       lower_than_usual         False   \n",
       "...           ...        ...                    ...           ...   \n",
       "13035      summer     monday  no_significant_change         False   \n",
       "14078      winter     sunday           peak_warning          True   \n",
       "37704      winter     friday       lower_than_usual         False   \n",
       "2616       spring     friday  no_significant_change         False   \n",
       "36094      autumn  wednesday       lower_than_usual         False   \n",
       "\n",
       "       no_significant_change  lower_than_usual  \n",
       "35784                  False              True  \n",
       "8217                    True             False  \n",
       "13032                   True             False  \n",
       "6450                    True             False  \n",
       "36805                  False              True  \n",
       "...                      ...               ...  \n",
       "13035                   True             False  \n",
       "14078                  False             False  \n",
       "37704                  False              True  \n",
       "2616                    True             False  \n",
       "36094                  False              True  \n",
       "\n",
       "[300 rows x 16 columns]"
      ]
     },
     "execution_count": 311,
     "metadata": {},
     "output_type": "execute_result"
    }
   ],
   "source": [
    "dataset.iloc[indexes]"
   ]
  },
  {
   "cell_type": "code",
   "execution_count": 318,
   "metadata": {},
   "outputs": [
    {
     "name": "stderr",
     "output_type": "stream",
     "text": [
      "WARNING:shap:Using 300 background data samples could cause slower run times. Consider using shap.sample(data, K) or shap.kmeans(data, K) to summarize the background as K samples.\n"
     ]
    },
    {
     "name": "stdout",
     "output_type": "stream",
     "text": [
      "banyak\n",
      "output size (300, 1)\n"
     ]
    },
    {
     "data": {
      "text/plain": [
       "((300, 12), (1, 12))"
      ]
     },
     "execution_count": 318,
     "metadata": {},
     "output_type": "execute_result"
    }
   ],
   "source": [
    "def custom_predict(data):\n",
    "    encode = {True: 1.0, False: 0.0}\n",
    "    # data = dataset.drop(columns=targets_only).iloc[indexes].values\n",
    "    # print(data2 == data)/\n",
    "    # print(data[:,-1])\n",
    "    \n",
    "    # print(type(data) == np.ndarray)\n",
    "    if (len(data) > 1):\n",
    "        print('banyak')\n",
    "        data = dataset.drop(columns=targets_only).iloc[indexes].values\n",
    "        # print(data)\n",
    "        pred = [encode[p] for p in data[:,-1]]\n",
    "        pred = np.array(pred).reshape(-1, 1) #np.array(pred)\n",
    "        \n",
    "    else:\n",
    "        print('dikit')\n",
    "        data = dataset.drop(columns=targets_only).iloc[0].values\n",
    "        print('data', data[-1]) \n",
    "        pred = np.array(encode[data[-1]]).reshape(-1, 1)\n",
    "        print('encode',[pred])\n",
    "        \n",
    "        \n",
    "    # print(data)\n",
    "    # if isinstance(data, pd.DataFrame):\n",
    "    #     print('data columns pandas')\n",
    "    #     print(data.columns)\n",
    "    #     pred = [encode[p] for p in data['peak_warning'].values]\n",
    "    # else:\n",
    "    #     pred = [encode[p] for p in data[:, -1]]\n",
    "    #     print('else')\n",
    "    #     print(data[:, -1])\n",
    "        \n",
    "    print('output size', pred.shape)\n",
    "    # print(pred)\n",
    "    \n",
    "    return pred\n",
    "\n",
    "\n",
    "# background = dataset.drop(columns=targets).sample(sample, random_state=0)  # Background data sample\n",
    "explainer = shap.KernelExplainer(custom_predict, background)\n",
    "background.shape, observation.shape\n"
   ]
  },
  {
   "cell_type": "code",
   "execution_count": 319,
   "metadata": {},
   "outputs": [
    {
     "name": "stdout",
     "output_type": "stream",
     "text": [
      "Observation shape: (1, 12)\n"
     ]
    },
    {
     "name": "stderr",
     "output_type": "stream",
     "text": [
      "  0%|          | 0/1 [00:00<?, ?it/s]INFO:shap:num_full_subsets = 3\n",
      "INFO:shap:remaining_weight_vector = array([0.35673839, 0.32616082, 0.31710079])\n",
      "INFO:shap:num_paired_subset_sizes = 5\n",
      "INFO:shap:weight_left = 0.2929005745959313\n",
      "  0%|          | 0/1 [00:00<?, ?it/s]"
     ]
    },
    {
     "name": "stdout",
     "output_type": "stream",
     "text": [
      "dikit\n",
      "data False\n",
      "encode [array([[0.]])]\n",
      "output size (1, 1)\n",
      "banyak\n",
      "output size (300, 1)\n",
      "Error computing SHAP values: cannot reshape array of size 300 into shape (621600,1)\n"
     ]
    },
    {
     "name": "stderr",
     "output_type": "stream",
     "text": [
      "\n"
     ]
    }
   ],
   "source": [
    "observation = dataset.drop(columns=targets).iloc[0:1]\n",
    "print(\"Observation shape:\", observation.shape)  \n",
    "# observation\n",
    "# shap_values = explainer.shap_values(observation)\n",
    "\n",
    "# print(shap_values)\n",
    "try:\n",
    "    shap_values = explainer.shap_values(observation)\n",
    "except Exception as e:\n",
    "    print(\"Error computing SHAP values:\", e)"
   ]
  },
  {
   "cell_type": "code",
   "execution_count": null,
   "metadata": {},
   "outputs": [],
   "source": []
  },
  {
   "cell_type": "code",
   "execution_count": null,
   "metadata": {},
   "outputs": [],
   "source": []
  }
 ],
 "metadata": {
  "kernelspec": {
   "display_name": "xai2",
   "language": "python",
   "name": "python3"
  },
  "language_info": {
   "codemirror_mode": {
    "name": "ipython",
    "version": 3
   },
   "file_extension": ".py",
   "mimetype": "text/x-python",
   "name": "python",
   "nbconvert_exporter": "python",
   "pygments_lexer": "ipython3",
   "version": "3.9.18"
  }
 },
 "nbformat": 4,
 "nbformat_minor": 2
}
