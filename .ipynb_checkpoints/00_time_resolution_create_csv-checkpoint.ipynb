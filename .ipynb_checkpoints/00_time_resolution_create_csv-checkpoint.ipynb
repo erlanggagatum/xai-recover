{
 "cells": [
  {
   "cell_type": "code",
   "execution_count": 1,
   "metadata": {},
   "outputs": [
    {
     "name": "stdout",
     "output_type": "stream",
     "text": [
      "Copyright 2016, Seok-Jun Bu, Softcomputing Lab. All Rights Reserved.\n",
      "Importing Soft-computing Packages . . .\n",
      "\tGeneral python-science packages loaded.\n",
      "\tDeep learning toolkit loaded.\n",
      "\tHandcrafted functions loaded:\n",
      "\t\tsjbu_sample(X, n_sample, shuffle=True/False)\n",
      "\t\tsjbu_scaler(X, mode='standard/robust/minmax/maxabs', channel='first')\n",
      "\t\tsjbu_plot_history(model_history, mode='loss', title='Entropy')\n",
      "\t\tsjbu_confusion_matrix(model_input, feature, label, class_list=['first', 'second'], fig_size=(5,5))\n",
      "\t\tsjbu_categorical_recall(input_class_idx)\n",
      "\t\tsjbu_set_font(font_family='Times New Roman', font_size=10)\n",
      ". . . Done.\n"
     ]
    }
   ],
   "source": [
    "from softcomputing_packages_bu import *"
   ]
  },
  {
   "cell_type": "code",
   "execution_count": 2,
   "metadata": {},
   "outputs": [],
   "source": [
    "# fill missing values with a value at the same time one day ago\n",
    "def fill_missing(values):\n",
    "    one_day = 60 * 24\n",
    "    for row in range(values.shape[0]):\n",
    "        for col in range(values.shape[1]):\n",
    "            if np.isnan(values[row, col]):\n",
    "                values[row, col] = values[row - one_day, col]\n",
    " \n",
    "# load all data\n",
    "dataset = pd.read_csv('../../../dataset/kepco/household_power_consumption.txt', sep=';', header=0, low_memory=False, infer_datetime_format=True, parse_dates={'datetime':[0,1]}, index_col=['datetime'])\n",
    "# mark all missing values\n",
    "dataset.replace('?', np.nan, inplace=True)\n",
    "# make dataset numeric\n",
    "dataset = dataset.astype('float32')\n",
    "# fill missing\n",
    "fill_missing(dataset.values)\n",
    "# add a column for for the remainder of sub metering\n",
    "values = dataset.values\n",
    "dataset['sub_metering_4'] = (values[:,0] * 1000 / 60) - (values[:,4] + values[:,5] + values[:,6])\n",
    "# save updated dataset\n",
    "dataset.to_csv('../../../dataset/kepco/household_power_consumption.csv')"
   ]
  },
  {
   "cell_type": "code",
   "execution_count": 3,
   "metadata": {},
   "outputs": [
    {
     "data": {
      "text/html": [
       "<div>\n",
       "<style scoped>\n",
       "    .dataframe tbody tr th:only-of-type {\n",
       "        vertical-align: middle;\n",
       "    }\n",
       "\n",
       "    .dataframe tbody tr th {\n",
       "        vertical-align: top;\n",
       "    }\n",
       "\n",
       "    .dataframe thead th {\n",
       "        text-align: right;\n",
       "    }\n",
       "</style>\n",
       "<table border=\"1\" class=\"dataframe\">\n",
       "  <thead>\n",
       "    <tr style=\"text-align: right;\">\n",
       "      <th></th>\n",
       "      <th>Global_active_power</th>\n",
       "      <th>Global_reactive_power</th>\n",
       "      <th>Voltage</th>\n",
       "      <th>Global_intensity</th>\n",
       "      <th>Sub_metering_1</th>\n",
       "      <th>Sub_metering_2</th>\n",
       "      <th>Sub_metering_3</th>\n",
       "      <th>sub_metering_4</th>\n",
       "    </tr>\n",
       "  </thead>\n",
       "  <tbody>\n",
       "    <tr>\n",
       "      <th>count</th>\n",
       "      <td>2.075259e+06</td>\n",
       "      <td>2.075259e+06</td>\n",
       "      <td>2.075259e+06</td>\n",
       "      <td>2.075259e+06</td>\n",
       "      <td>2.075259e+06</td>\n",
       "      <td>2.075259e+06</td>\n",
       "      <td>2.075259e+06</td>\n",
       "      <td>2.075259e+06</td>\n",
       "    </tr>\n",
       "    <tr>\n",
       "      <th>mean</th>\n",
       "      <td>1.089417e+00</td>\n",
       "      <td>1.236871e-01</td>\n",
       "      <td>2.408364e+02</td>\n",
       "      <td>4.618402e+00</td>\n",
       "      <td>1.118474e+00</td>\n",
       "      <td>1.291131e+00</td>\n",
       "      <td>6.448635e+00</td>\n",
       "      <td>9.298722e+00</td>\n",
       "    </tr>\n",
       "    <tr>\n",
       "      <th>std</th>\n",
       "      <td>1.054678e+00</td>\n",
       "      <td>1.125933e-01</td>\n",
       "      <td>3.240051e+00</td>\n",
       "      <td>4.433165e+00</td>\n",
       "      <td>6.141460e+00</td>\n",
       "      <td>5.796922e+00</td>\n",
       "      <td>8.433584e+00</td>\n",
       "      <td>9.561277e+00</td>\n",
       "    </tr>\n",
       "    <tr>\n",
       "      <th>min</th>\n",
       "      <td>7.600000e-02</td>\n",
       "      <td>0.000000e+00</td>\n",
       "      <td>2.232000e+02</td>\n",
       "      <td>2.000000e-01</td>\n",
       "      <td>0.000000e+00</td>\n",
       "      <td>0.000000e+00</td>\n",
       "      <td>0.000000e+00</td>\n",
       "      <td>-2.400000e+00</td>\n",
       "    </tr>\n",
       "    <tr>\n",
       "      <th>25%</th>\n",
       "      <td>3.080000e-01</td>\n",
       "      <td>4.800000e-02</td>\n",
       "      <td>2.389900e+02</td>\n",
       "      <td>1.400000e+00</td>\n",
       "      <td>0.000000e+00</td>\n",
       "      <td>0.000000e+00</td>\n",
       "      <td>0.000000e+00</td>\n",
       "      <td>3.800000e+00</td>\n",
       "    </tr>\n",
       "    <tr>\n",
       "      <th>50%</th>\n",
       "      <td>6.020000e-01</td>\n",
       "      <td>1.000000e-01</td>\n",
       "      <td>2.410000e+02</td>\n",
       "      <td>2.600000e+00</td>\n",
       "      <td>0.000000e+00</td>\n",
       "      <td>0.000000e+00</td>\n",
       "      <td>1.000000e+00</td>\n",
       "      <td>5.500000e+00</td>\n",
       "    </tr>\n",
       "    <tr>\n",
       "      <th>75%</th>\n",
       "      <td>1.526000e+00</td>\n",
       "      <td>1.940000e-01</td>\n",
       "      <td>2.428700e+02</td>\n",
       "      <td>6.400000e+00</td>\n",
       "      <td>0.000000e+00</td>\n",
       "      <td>1.000000e+00</td>\n",
       "      <td>1.700000e+01</td>\n",
       "      <td>1.036667e+01</td>\n",
       "    </tr>\n",
       "    <tr>\n",
       "      <th>max</th>\n",
       "      <td>1.112200e+01</td>\n",
       "      <td>1.390000e+00</td>\n",
       "      <td>2.541500e+02</td>\n",
       "      <td>4.840000e+01</td>\n",
       "      <td>8.800000e+01</td>\n",
       "      <td>8.000000e+01</td>\n",
       "      <td>3.100000e+01</td>\n",
       "      <td>1.248333e+02</td>\n",
       "    </tr>\n",
       "  </tbody>\n",
       "</table>\n",
       "</div>"
      ],
      "text/plain": [
       "       Global_active_power  Global_reactive_power       Voltage  \\\n",
       "count         2.075259e+06           2.075259e+06  2.075259e+06   \n",
       "mean          1.089417e+00           1.236871e-01  2.408364e+02   \n",
       "std           1.054678e+00           1.125933e-01  3.240051e+00   \n",
       "min           7.600000e-02           0.000000e+00  2.232000e+02   \n",
       "25%           3.080000e-01           4.800000e-02  2.389900e+02   \n",
       "50%           6.020000e-01           1.000000e-01  2.410000e+02   \n",
       "75%           1.526000e+00           1.940000e-01  2.428700e+02   \n",
       "max           1.112200e+01           1.390000e+00  2.541500e+02   \n",
       "\n",
       "       Global_intensity  Sub_metering_1  Sub_metering_2  Sub_metering_3  \\\n",
       "count      2.075259e+06    2.075259e+06    2.075259e+06    2.075259e+06   \n",
       "mean       4.618402e+00    1.118474e+00    1.291131e+00    6.448635e+00   \n",
       "std        4.433165e+00    6.141460e+00    5.796922e+00    8.433584e+00   \n",
       "min        2.000000e-01    0.000000e+00    0.000000e+00    0.000000e+00   \n",
       "25%        1.400000e+00    0.000000e+00    0.000000e+00    0.000000e+00   \n",
       "50%        2.600000e+00    0.000000e+00    0.000000e+00    1.000000e+00   \n",
       "75%        6.400000e+00    0.000000e+00    1.000000e+00    1.700000e+01   \n",
       "max        4.840000e+01    8.800000e+01    8.000000e+01    3.100000e+01   \n",
       "\n",
       "       sub_metering_4  \n",
       "count    2.075259e+06  \n",
       "mean     9.298722e+00  \n",
       "std      9.561277e+00  \n",
       "min     -2.400000e+00  \n",
       "25%      3.800000e+00  \n",
       "50%      5.500000e+00  \n",
       "75%      1.036667e+01  \n",
       "max      1.248333e+02  "
      ]
     },
     "execution_count": 3,
     "metadata": {},
     "output_type": "execute_result"
    }
   ],
   "source": [
    "dataset.describe()"
   ]
  },
  {
   "cell_type": "code",
   "execution_count": 4,
   "metadata": {},
   "outputs": [
    {
     "name": "stdout",
     "output_type": "stream",
     "text": [
      "<class 'pandas.core.frame.DataFrame'>\n",
      "DatetimeIndex: 2075259 entries, 2006-12-16 17:24:00 to 2010-11-26 21:02:00\n",
      "Data columns (total 8 columns):\n",
      " #   Column                 Dtype  \n",
      "---  ------                 -----  \n",
      " 0   Global_active_power    float32\n",
      " 1   Global_reactive_power  float32\n",
      " 2   Voltage                float32\n",
      " 3   Global_intensity       float32\n",
      " 4   Sub_metering_1         float32\n",
      " 5   Sub_metering_2         float32\n",
      " 6   Sub_metering_3         float32\n",
      " 7   sub_metering_4         float32\n",
      "dtypes: float32(8)\n",
      "memory usage: 79.2 MB\n"
     ]
    }
   ],
   "source": [
    "dataset.info()"
   ]
  },
  {
   "cell_type": "code",
   "execution_count": 10,
   "metadata": {},
   "outputs": [
    {
     "name": "stdout",
     "output_type": "stream",
     "text": [
      "(207, 8)\n",
      "            Global_active_power  Global_reactive_power     Voltage  \\\n",
      "datetime                                                             \n",
      "2006-12-17             2.505248               0.142118  239.258087   \n",
      "2006-12-24             1.734503               0.116711  241.369476   \n",
      "2006-12-31             1.958663               0.144102  241.909805   \n",
      "2007-01-07             1.484233               0.133825  240.921631   \n",
      "2007-01-14             1.604956               0.157782  240.270279   \n",
      "\n",
      "            Global_intensity  Sub_metering_1  Sub_metering_2  Sub_metering_3  \\\n",
      "datetime                                                                       \n",
      "2006-12-17         10.664162        1.107298        2.577887        9.949347   \n",
      "2006-12-24          7.343274        1.110119        2.125000        7.686707   \n",
      "2006-12-31          8.239226        1.412401        2.245040        6.673909   \n",
      "2007-01-07          6.262123        0.581052        1.745933        5.376290   \n",
      "2007-01-14          6.831131        1.331349        1.883829        8.269444   \n",
      "\n",
      "            sub_metering_4  \n",
      "datetime                    \n",
      "2006-12-17       28.119608  \n",
      "2006-12-24       17.986561  \n",
      "2006-12-31       22.313036  \n",
      "2007-01-07       17.033941  \n",
      "2007-01-14       15.264649  \n"
     ]
    }
   ],
   "source": [
    "# resample data per resolution\n",
    "time_resolution = '1T'\n",
    "dataset_resampled = dataset.resample(time_resolution).mean()\n",
    "# summarize\n",
    "print(dataset_resampled.shape)\n",
    "print(dataset_resampled.head())\n",
    "dataset_resampled.to_csv('../../dataset/kepco/household_power_consumption_%s.csv' %(time_resolution))"
   ]
  },
  {
   "cell_type": "code",
   "execution_count": 13,
   "metadata": {},
   "outputs": [
    {
     "name": "stdout",
     "output_type": "stream",
     "text": [
      "(207, 8)\n",
      "[[2.50524830e+00 1.42117650e-01 2.39258090e+02 ... 2.57788680e+00\n",
      "  9.94934700e+00 2.81196080e+01]\n",
      " [1.73450310e+00 1.16710514e-01 2.41369480e+02 ... 2.12500000e+00\n",
      "  7.68670650e+00 1.79865600e+01]\n",
      " [1.95866310e+00 1.44101980e-01 2.41909800e+02 ... 2.24503970e+00\n",
      "  6.67390870e+00 2.23130360e+01]\n",
      " ...\n",
      " [1.33592770e+00 1.11409130e-01 2.38685010e+02 ... 1.07529760e+00\n",
      "  7.74047600e+00 1.18541540e+01]\n",
      " [1.10710620e+00 9.96771800e-02 2.40721590e+02 ... 9.53968200e-01\n",
      "  6.28531740e+00 1.03424430e+01]\n",
      " [1.18675610e+00 9.24416900e-02 2.40532100e+02 ... 8.86658130e-01\n",
      "  6.41207460e+00 1.10597750e+01]]\n"
     ]
    }
   ],
   "source": [
    "dataset_loaded = pd.read_csv('../../dataset/kepco/household_power_consumption_W.csv', header=None, skiprows=1).values[:, 1:].astype('float')\n",
    "print(dataset_loaded.shape)\n",
    "print(dataset_loaded)"
   ]
  },
  {
   "cell_type": "code",
   "execution_count": null,
   "metadata": {},
   "outputs": [],
   "source": []
  }
 ],
 "metadata": {
  "kernelspec": {
   "display_name": "Python 3",
   "language": "python",
   "name": "python3"
  },
  "language_info": {
   "codemirror_mode": {
    "name": "ipython",
    "version": 3
   },
   "file_extension": ".py",
   "mimetype": "text/x-python",
   "name": "python",
   "nbconvert_exporter": "python",
   "pygments_lexer": "ipython3",
   "version": "3.8.3"
  }
 },
 "nbformat": 4,
 "nbformat_minor": 4
}
