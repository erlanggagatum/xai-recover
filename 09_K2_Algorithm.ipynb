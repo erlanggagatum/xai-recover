{
 "cells": [
  {
   "cell_type": "code",
   "execution_count": 28,
   "metadata": {},
   "outputs": [
    {
     "name": "stdout",
     "output_type": "stream",
     "text": [
      "The autoreload extension is already loaded. To reload it, use:\n",
      "  %reload_ext autoreload\n"
     ]
    }
   ],
   "source": [
    "import sys\n",
    "sys.path.append('../src')\n",
    "# from causal_shapley import causal_shapley, predict_proba\n",
    "from egtoolkit import *\n",
    "%load_ext autoreload\n",
    "%autoreload 2\n",
    "\n",
    "from egtoolkit import *\n",
    "\n",
    "import random\n",
    "import warnings\n",
    "import numpy as np\n",
    "import pandas as pd\n",
    "from sklearn.datasets import load_breast_cancer\n",
    "from sklearn.model_selection import train_test_split\n",
    "from sklearn.preprocessing import StandardScaler\n",
    "from sklearn.linear_model import LogisticRegression\n",
    "from sklearn.pipeline import make_pipeline\n",
    "import itertools\n",
    "from itertools import combinations, permutations, chain\n",
    "from sklearn.preprocessing import LabelEncoder\n",
    "from sklearn.metrics import mutual_info_score\n",
    "\n",
    "from functools import reduce\n",
    "from decimal import Decimal\n",
    "import itertools\n",
    "\n",
    "import shap\n",
    "\n",
    "warnings.filterwarnings(\"ignore\")\n",
    "import networkx as nx\n",
    "import matplotlib.pyplot as plt\n",
    "import seaborn as sns\n",
    "\n",
    "from imblearn.under_sampling import RandomUnderSampler\n",
    "\n",
    "from pgmpy.models import BayesianNetwork\n",
    "from pgmpy.inference import VariableElimination\n",
    "from pgmpy.factors.discrete.CPD import TabularCPD\n",
    "\n",
    "\n",
    "from graphviz import Digraph\n",
    "import pydot\n",
    "import copy"
   ]
  },
  {
   "cell_type": "code",
   "execution_count": 17,
   "metadata": {},
   "outputs": [],
   "source": [
    "# !pip list"
   ]
  },
  {
   "cell_type": "markdown",
   "metadata": {},
   "source": [
    "## Import dataset"
   ]
  },
  {
   "cell_type": "code",
   "execution_count": 4,
   "metadata": {},
   "outputs": [],
   "source": [
    "categorical_cols = ['global_active_power', 'global_reactive_power', 'voltage',\n",
    "                    'global_intensity', 'kitchen', 'laundry', 'climate_control', 'other',\n",
    "                    'weekend', 'month_name', 'season_name', 'day_name']  # list all columns that are categorical"
   ]
  },
  {
   "cell_type": "code",
   "execution_count": 5,
   "metadata": {},
   "outputs": [],
   "source": [
    "dataset = pd.read_csv('./datasets/2.0-discretized-v2-3-peak-label-encoded.csv')"
   ]
  },
  {
   "cell_type": "code",
   "execution_count": 6,
   "metadata": {},
   "outputs": [
    {
     "data": {
      "text/plain": [
       "array([[False],\n",
       "       [False],\n",
       "       [False],\n",
       "       ...,\n",
       "       [False],\n",
       "       [False],\n",
       "       [False]])"
      ]
     },
     "execution_count": 6,
     "metadata": {},
     "output_type": "execute_result"
    }
   ],
   "source": [
    "dataset[['peak_warning']].values"
   ]
  },
  {
   "cell_type": "code",
   "execution_count": 7,
   "metadata": {},
   "outputs": [],
   "source": [
    "targets = ['peak_label_pred', 'peak_warning', 'no_significant_change', 'lower_than_usual']\n",
    "targets_only = ['peak_label_pred', 'no_significant_change', 'lower_than_usual']"
   ]
  },
  {
   "cell_type": "code",
   "execution_count": 8,
   "metadata": {},
   "outputs": [
    {
     "data": {
      "text/plain": [
       "Index(['global_active_power', 'global_reactive_power', 'voltage',\n",
       "       'global_intensity', 'kitchen', 'laundry', 'climate_control', 'other',\n",
       "       'weekend', 'month_name', 'season_name', 'day_name', 'peak_label_pred',\n",
       "       'peak_warning', 'no_significant_change', 'lower_than_usual'],\n",
       "      dtype='object')"
      ]
     },
     "execution_count": 8,
     "metadata": {},
     "output_type": "execute_result"
    }
   ],
   "source": [
    "dataset.columns"
   ]
  },
  {
   "cell_type": "markdown",
   "metadata": {},
   "source": [
    "MI Sort"
   ]
  },
  {
   "cell_type": "code",
   "execution_count": 9,
   "metadata": {},
   "outputs": [
    {
     "data": {
      "text/html": [
       "<div>\n",
       "<style scoped>\n",
       "    .dataframe tbody tr th:only-of-type {\n",
       "        vertical-align: middle;\n",
       "    }\n",
       "\n",
       "    .dataframe tbody tr th {\n",
       "        vertical-align: top;\n",
       "    }\n",
       "\n",
       "    .dataframe thead th {\n",
       "        text-align: right;\n",
       "    }\n",
       "</style>\n",
       "<table border=\"1\" class=\"dataframe\">\n",
       "  <thead>\n",
       "    <tr style=\"text-align: right;\">\n",
       "      <th></th>\n",
       "      <th>climate_control</th>\n",
       "      <th>global_intensity</th>\n",
       "      <th>kitchen</th>\n",
       "      <th>laundry</th>\n",
       "      <th>other</th>\n",
       "      <th>voltage</th>\n",
       "      <th>weekend</th>\n",
       "      <th>peak_warning</th>\n",
       "    </tr>\n",
       "  </thead>\n",
       "  <tbody>\n",
       "    <tr>\n",
       "      <th>0</th>\n",
       "      <td>High</td>\n",
       "      <td>Very High</td>\n",
       "      <td>High</td>\n",
       "      <td>Medium</td>\n",
       "      <td>Very High</td>\n",
       "      <td>Low</td>\n",
       "      <td>True</td>\n",
       "      <td>False</td>\n",
       "    </tr>\n",
       "    <tr>\n",
       "      <th>1</th>\n",
       "      <td>High</td>\n",
       "      <td>High</td>\n",
       "      <td>Low</td>\n",
       "      <td>Low</td>\n",
       "      <td>High</td>\n",
       "      <td>High</td>\n",
       "      <td>False</td>\n",
       "      <td>False</td>\n",
       "    </tr>\n",
       "    <tr>\n",
       "      <th>2</th>\n",
       "      <td>Very High</td>\n",
       "      <td>Very High</td>\n",
       "      <td>Medium</td>\n",
       "      <td>Medium</td>\n",
       "      <td>Very High</td>\n",
       "      <td>High</td>\n",
       "      <td>False</td>\n",
       "      <td>False</td>\n",
       "    </tr>\n",
       "    <tr>\n",
       "      <th>3</th>\n",
       "      <td>Low</td>\n",
       "      <td>Low</td>\n",
       "      <td>Medium</td>\n",
       "      <td>Low</td>\n",
       "      <td>Medium</td>\n",
       "      <td>Low</td>\n",
       "      <td>False</td>\n",
       "      <td>False</td>\n",
       "    </tr>\n",
       "    <tr>\n",
       "      <th>4</th>\n",
       "      <td>Low</td>\n",
       "      <td>Very High</td>\n",
       "      <td>Low</td>\n",
       "      <td>Low</td>\n",
       "      <td>Very High</td>\n",
       "      <td>Very High</td>\n",
       "      <td>True</td>\n",
       "      <td>False</td>\n",
       "    </tr>\n",
       "    <tr>\n",
       "      <th>...</th>\n",
       "      <td>...</td>\n",
       "      <td>...</td>\n",
       "      <td>...</td>\n",
       "      <td>...</td>\n",
       "      <td>...</td>\n",
       "      <td>...</td>\n",
       "      <td>...</td>\n",
       "      <td>...</td>\n",
       "    </tr>\n",
       "    <tr>\n",
       "      <th>41668</th>\n",
       "      <td>Low</td>\n",
       "      <td>Low</td>\n",
       "      <td>Low</td>\n",
       "      <td>Low</td>\n",
       "      <td>Medium</td>\n",
       "      <td>Very High</td>\n",
       "      <td>True</td>\n",
       "      <td>False</td>\n",
       "    </tr>\n",
       "    <tr>\n",
       "      <th>41669</th>\n",
       "      <td>Medium</td>\n",
       "      <td>Medium</td>\n",
       "      <td>High</td>\n",
       "      <td>Medium</td>\n",
       "      <td>High</td>\n",
       "      <td>Very High</td>\n",
       "      <td>False</td>\n",
       "      <td>False</td>\n",
       "    </tr>\n",
       "    <tr>\n",
       "      <th>41670</th>\n",
       "      <td>Low</td>\n",
       "      <td>Medium</td>\n",
       "      <td>Low</td>\n",
       "      <td>High</td>\n",
       "      <td>High</td>\n",
       "      <td>High</td>\n",
       "      <td>False</td>\n",
       "      <td>False</td>\n",
       "    </tr>\n",
       "    <tr>\n",
       "      <th>41671</th>\n",
       "      <td>Medium</td>\n",
       "      <td>Low</td>\n",
       "      <td>High</td>\n",
       "      <td>High</td>\n",
       "      <td>Low</td>\n",
       "      <td>Very High</td>\n",
       "      <td>True</td>\n",
       "      <td>False</td>\n",
       "    </tr>\n",
       "    <tr>\n",
       "      <th>41672</th>\n",
       "      <td>Low</td>\n",
       "      <td>Low</td>\n",
       "      <td>Low</td>\n",
       "      <td>Low</td>\n",
       "      <td>Low</td>\n",
       "      <td>High</td>\n",
       "      <td>False</td>\n",
       "      <td>False</td>\n",
       "    </tr>\n",
       "  </tbody>\n",
       "</table>\n",
       "<p>41673 rows × 8 columns</p>\n",
       "</div>"
      ],
      "text/plain": [
       "      climate_control global_intensity kitchen laundry      other    voltage  \\\n",
       "0                High        Very High    High  Medium  Very High        Low   \n",
       "1                High             High     Low     Low       High       High   \n",
       "2           Very High        Very High  Medium  Medium  Very High       High   \n",
       "3                 Low              Low  Medium     Low     Medium        Low   \n",
       "4                 Low        Very High     Low     Low  Very High  Very High   \n",
       "...               ...              ...     ...     ...        ...        ...   \n",
       "41668             Low              Low     Low     Low     Medium  Very High   \n",
       "41669          Medium           Medium    High  Medium       High  Very High   \n",
       "41670             Low           Medium     Low    High       High       High   \n",
       "41671          Medium              Low    High    High        Low  Very High   \n",
       "41672             Low              Low     Low     Low        Low       High   \n",
       "\n",
       "       weekend  peak_warning  \n",
       "0         True         False  \n",
       "1        False         False  \n",
       "2        False         False  \n",
       "3        False         False  \n",
       "4         True         False  \n",
       "...        ...           ...  \n",
       "41668     True         False  \n",
       "41669    False         False  \n",
       "41670    False         False  \n",
       "41671     True         False  \n",
       "41672    False         False  \n",
       "\n",
       "[41673 rows x 8 columns]"
      ]
     },
     "execution_count": 9,
     "metadata": {},
     "output_type": "execute_result"
    }
   ],
   "source": [
    "causal_vars = ['climate_control','global_intensity','kitchen','laundry','other','voltage','weekend', 'peak_warning']\n",
    "dataset_preprocessing = dataset[causal_vars]\n",
    "dataset_preprocessing"
   ]
  },
  {
   "cell_type": "code",
   "execution_count": 10,
   "metadata": {},
   "outputs": [],
   "source": [
    "# Initialize LabelEncoder\n",
    "le = LabelEncoder()\n",
    "\n",
    "# Apply LabelEncoder to each column\n",
    "for col in dataset_preprocessing.columns:\n",
    "    dataset_preprocessing[col] = le.fit_transform(dataset_preprocessing[col])"
   ]
  },
  {
   "cell_type": "code",
   "execution_count": 11,
   "metadata": {},
   "outputs": [
    {
     "name": "stdout",
     "output_type": "stream",
     "text": [
      "[[1.3748624052229603 0.2918502082238087 0.3196853707866573\n",
      "  0.06627524257671642 0.037659607081020396 0.0503604623530874\n",
      "  0.0006325003465987022 0.09426270891192148]\n",
      " [0.2918502082238087 1.3733068821830432 0.04214078617042706\n",
      "  0.046260120346218125 0.41624975079542736 0.10048726791888057\n",
      "  0.002922910585734295 0.15097777384148847]\n",
      " [0.3196853707866573 0.04214078617042706 1.38286802432115\n",
      "  0.260686249324554 0.010542826604020783 0.044340309486752896\n",
      "  0.0023339804933382724 0.020583936653749024]\n",
      " [0.06627524257671642 0.046260120346218125 0.260686249324554\n",
      "  1.3854443909985528 0.007645556847585777 0.030925773163837364\n",
      "  0.0010848848257274668 0.005839022333192917]\n",
      " [0.037659607081020396 0.4162497507954274 0.010542826604020783\n",
      "  0.007645556847585777 1.379847170104834 0.061686982120370173\n",
      "  0.0022612178958185125 0.06990186563545549]\n",
      " [0.0503604623530874 0.10048726791888057 0.044340309486752896\n",
      "  0.030925773163837364 0.061686982120370173 1.3791596177645482\n",
      "  0.00013741577370590674 0.08480533965934756]\n",
      " [0.0006325003465987022 0.002922910585734295 0.0023339804933382724\n",
      "  0.0010848848257274668 0.0022612178958185125 0.00013741577370590674\n",
      "  0.6015021780313672 0.0003164147462928757]\n",
      " [0.09426270891192148 0.15097777384148847 0.020583936653749024\n",
      "  0.005839022333192917 0.06990186563545549 0.08480533965934756\n",
      "  0.0003164147462928757 0.6365141682948121]]\n"
     ]
    }
   ],
   "source": [
    "# Prepare an empty DataFrame to store mutual information\n",
    "mi_matrix = pd.DataFrame(index=dataset_preprocessing.columns, columns=dataset_preprocessing.columns)\n",
    "\n",
    "# Calculate mutual information for each pair of columns\n",
    "for col1 in dataset_preprocessing.columns:\n",
    "    for col2 in dataset_preprocessing.columns:\n",
    "        mi_matrix.loc[col1, col2] = mutual_info_score(dataset_preprocessing[col1], dataset_preprocessing[col2])\n",
    "\n",
    "print(mi_matrix.values)\n"
   ]
  },
  {
   "cell_type": "code",
   "execution_count": 12,
   "metadata": {},
   "outputs": [
    {
     "name": "stdout",
     "output_type": "stream",
     "text": [
      "Features sorted by influence score:\n",
      "global_intensity    1.050889\n",
      "climate_control     0.860726\n",
      "kitchen             0.700313\n",
      "other               0.605948\n",
      "peak_warning        0.426687\n",
      "laundry             0.418717\n",
      "voltage             0.372744\n",
      "weekend             0.009689\n",
      "dtype: object\n"
     ]
    }
   ],
   "source": [
    "influence_scores = mi_matrix.sum() - np.diag(mi_matrix)\n",
    "sorted_features = influence_scores.sort_values(ascending=False)\n",
    "print(\"Features sorted by influence score:\")\n",
    "print(sorted_features)"
   ]
  },
  {
   "cell_type": "code",
   "execution_count": 13,
   "metadata": {},
   "outputs": [
    {
     "data": {
      "text/plain": [
       "0.08480533965934756"
      ]
     },
     "execution_count": 13,
     "metadata": {},
     "output_type": "execute_result"
    }
   ],
   "source": [
    "mi_matrix['peak_warning']['voltage']"
   ]
  },
  {
   "cell_type": "markdown",
   "metadata": {},
   "source": [
    "K2 Algorithm\n",
    "\n",
    "_Code implementation from https://github.dev/ruteee/K2-Algorithm_"
   ]
  },
  {
   "cell_type": "code",
   "execution_count": 18,
   "metadata": {},
   "outputs": [],
   "source": [
    "def graph_from_dict(dictionary,):\n",
    "    edge_style = \"\"\n",
    "    g = Digraph()\n",
    "   \n",
    "    for k in dictionary.keys():\n",
    "        if any([k in sub for sub in dictionary.values() for key in dictionary.keys()]) or dictionary[k]:\n",
    "            g.node(str(k),k, shape='oval', fontsize='10', width='0', style='filled', fillcolor='#c9c9c9', color=\"gray\") \n",
    "\n",
    "    for k, i in dictionary.items():\n",
    "        for it in i:\n",
    "            g.edge(str(it), str(k), label='',style= edge_style, color='black')  \n",
    "    return g"
   ]
  },
  {
   "cell_type": "code",
   "execution_count": 19,
   "metadata": {},
   "outputs": [],
   "source": [
    "def alpha(df, i, parents): \n",
    "    parents = np.sort(parents)\n",
    "    states = list(map(list, itertools.product([0, 1], repeat=len(parents)+1)))\n",
    "    states_mod = [[\"\".join(map(str,sublist[:len(sublist)-1]))]+[str(sublist[-1])] for sublist in states]\n",
    "    gpd_values = pd.DataFrame()\n",
    "  \n",
    "    if len(parents):\n",
    "        label_parents = ''.join(parents)\n",
    "        df_to_group = pd.DataFrame(columns = [label_parents, df.columns[i]],\n",
    "                                    data = np.transpose(\n",
    "                                        [df.astype(str)[parents].apply(lambda x: \"\".join(x), axis=1).values,\n",
    "                                        [str(item) for item in df[df.columns[i]]]]))\n",
    "\n",
    "        \n",
    "        gpd_values = df_to_group.groupby(by=\n",
    "                                         [df_to_group[label_parents],\n",
    "                                          df.columns[i]]).size()\n",
    "\n",
    "        gpd_values = gpd_values.reset_index(name='size')\n",
    "\n",
    "        for state in states_mod:\n",
    "            if not state in gpd_values[[label_parents, df.columns[i]]].values.tolist() :\n",
    "                gpd_values.loc[len(gpd_values)] = state+[0]\n",
    "                gpd_values.sort_values(by=[label_parents, df.columns[i]], inplace=True)\n",
    "        gpd_values.reset_index(inplace=True)\n",
    "        gpd_values = gpd_values['size']\n",
    "    \n",
    "    else:\n",
    "        gpd_values = df.groupby(df.columns[i]).size().values\n",
    "    return gpd_values"
   ]
  },
  {
   "cell_type": "code",
   "execution_count": 20,
   "metadata": {},
   "outputs": [],
   "source": [
    "def get_N(df, i, parents):\n",
    "    parents = np.sort(parents)\n",
    "    states = list(map(list, itertools.product([0, 1], repeat=len(parents))))\n",
    "    gpd_values = None\n",
    "    N = []\n",
    "    if len(parents):\n",
    "        cols_to_group = ([index for index in parents])\n",
    "        cols_to_group.insert(0,df.columns[i])\n",
    "        N = df[cols_to_group].groupby(cols_to_group[1:]).size()\n",
    "        N = N.reset_index(name='size')\n",
    "    \n",
    "        for state in states:\n",
    "            if not state in N[cols_to_group[1:]].values.tolist() :\n",
    "                N.loc[len(N)] = state+[0]\n",
    "                N.sort_values(by=cols_to_group[1:], inplace=True)\n",
    "        N.reset_index(inplace = True)\n",
    "        N = N['size']\n",
    "    else:\n",
    "        N = df.groupby(by=df.columns[i]).size().values.sum()\n",
    "    return N"
   ]
  },
  {
   "cell_type": "code",
   "execution_count": 21,
   "metadata": {},
   "outputs": [],
   "source": [
    "def f_mdl(df,x_i,pi, c):\n",
    "    \n",
    "    '''\n",
    "        Minimum Length description metric score implementation\n",
    "    '''\n",
    "    N = len(df)\n",
    "    r_i = len(df[df.columns[x_i]].unique())\n",
    "    q_i = reduce(lambda x, y: x*y, [len(pd.unique(df[pai].values)) for pai in pi]) if pi  else 0\n",
    "    Nij = get_N(df, x_i, pi)\n",
    "    Nijk = alpha(df, x_i, pi)\n",
    "    pbs = 0\n",
    "  \n",
    "    if(pi):\n",
    "        for j in np.arange(0,q_i):\n",
    "            for i in np.arange(0,r_i):\n",
    "                if (len(Nijk) > (2*j + i) and len(Nij)>j):\n",
    "                    if Nijk[2*j + i] and Nij[j]:\n",
    "                          pbs += Nijk[2*j + i]*(math.log(Nijk[2*j + i]) - math.log(Nij[j]))          \n",
    "                    elif Nij[j]:\n",
    "                        pbs += - math.log(Nij[j])\n",
    "        pbs += -(c/2)*math.log(N)*q_i*(r_i -1)\n",
    "    else:\n",
    "        for i in np.arange(0,r_i):\n",
    "            pbs += Nijk[i]*(math.log(Nijk[i]) - math.log(Nij))\n",
    "        pbs += -(c/2)*math.log(N)*(r_i -1)\n",
    "  \n",
    "    return pbs"
   ]
  },
  {
   "cell_type": "code",
   "execution_count": 22,
   "metadata": {},
   "outputs": [],
   "source": [
    "def f_ch(df, x_i, pi):\n",
    "    '''\n",
    "        Cooper-Herskovits metric score\n",
    "        You can substitue factorial evaluations by log sum evaluations when working with large data\n",
    "    '''\n",
    "    prod = 1\n",
    "#     prod = 0\n",
    "    r_i = len(df[df.columns[x_i]].unique())\n",
    "    alfa = alpha(df, x_i, pi)\n",
    "    q_i = reduce(lambda x, y: x*y, [len(pd.unique(df[pai].values)) for pai in pi]) if pi  else 0\n",
    "    Nij = get_N(df, x_i, pi)\n",
    "\n",
    "    if pi:\n",
    "        for j in np.arange(0,q_i):\n",
    "            prod *= math.factorial(r_i - 1)/math.factorial(Nij[j] + r_i - 1)\n",
    "#             prod += math.log(math.factorial(r_i - 1)) - math.log(math.factorial(Nij[j] + r_i - 1))\n",
    "            for i in np.arange(0,r_i):\n",
    "                prod *= math.factorial(alfa[2*j + i])\n",
    "#             prod += math.log(math.factorial(alfa[2*j + i]))\n",
    "    else:\n",
    "        prod *= math.factorial(r_i - 1)/math.factorial(Nij + r_i - 1)\n",
    "#         prod += math.log(math.factorial(r_i - 1)) - math.log(math.factorial(Nij + r_i - 1))\n",
    "        for i in np.arange(0, r_i):\n",
    "#             prod += math.log(math.factorial(alfa[i]))\n",
    "            prod *= math.factorial(alfa[i])\n",
    "    return prod"
   ]
  },
  {
   "cell_type": "code",
   "execution_count": 23,
   "metadata": {},
   "outputs": [],
   "source": [
    "def k2(df_cases, tree_ogn,  c=1):\n",
    "    \n",
    "    '''K2 algorithm implementation\n",
    "    \n",
    "        df_cases: The dataframe of cases referrring the bayesian network, the columns are all the nodes \n",
    "        of the K2 pre-order         \n",
    "        tree_ogn: A dictionary with the pre-order, \n",
    "            format required is {'node':[ 'parent_1', 'parent_2', ... 'parent_n'],\n",
    "                                'node2': ['parent_1', 'parent_2', ... 'parent_n'],\n",
    "                                'node_n: [['parent_1', 'parent_2', ... 'parent_n']]'}\n",
    "        c: A factor for used in the evaluation of MDL score metric. Default = 1, (Optional)\n",
    "    \n",
    "        '''\n",
    "    tree = copy.deepcopy(tree_ogn)\n",
    "    dict_p = {}\n",
    "  \n",
    "    sigma = 0\n",
    "    parents = [[] for node in df_cases.columns]\n",
    "   \n",
    "    count = 0\n",
    "    for xi, col in enumerate(df_cases.columns):\n",
    "        df = df_cases.copy()\n",
    "\n",
    "        pold = f_ch(df_cases, xi, parents[xi])\n",
    "        \n",
    "#         using mdl as the metric score\n",
    "#         pold = f_mdl(df_cases, xi, parents[xi], c)\n",
    "    \n",
    "        tree_xi = []\n",
    "        if tree:\n",
    "              tree_xi = tree[col]\n",
    "    \n",
    "        f_ances = []\n",
    "        while (True):\n",
    "            test_parents = [parents[xi]+[ances] for ances in tree_xi] if tree_xi else []\n",
    "            f_ances = [f_ch(df, xi,parent) for parent in test_parents] if test_parents else [f_ch(df, xi, test_parents)]\n",
    "            \n",
    "            #using mdl as the score metric\n",
    "            #f_ances = [f_mdl(df, xi,parent,c) for parent in test_parents] if test_parents else [f_mdl(df, xi, test_parents,c)]\n",
    "            j_max = np.argmax(f_ances)\n",
    "\n",
    "            sigma = f_ances[j_max]> pold\n",
    "        \n",
    "            if sigma:\n",
    "                parents[xi] = parents[xi] + [no for no in [tree_xi[j_max]] if no not in parents[xi]]\n",
    "                pold = f_ances[j_max]\n",
    "  \n",
    "            if tree_xi:\n",
    "                del tree_xi[j_max]\n",
    "      \n",
    "            if(not sigma) or  (not tree_xi):\n",
    "                break\n",
    "        \n",
    "    for i,parent in enumerate(parents):\n",
    "        dict_p[df_cases.columns[i]] = parent\n",
    "    return dict_p"
   ]
  },
  {
   "cell_type": "code",
   "execution_count": 24,
   "metadata": {},
   "outputs": [
    {
     "name": "stderr",
     "output_type": "stream",
     "text": [
      "Warning: Could not load \"C:\\Users\\sclab\\anaconda3\\envs\\xai2\\Library\\bin\\gvplugin_pango.dll\" - It was found, so perhaps one of its dependents was not.  Try ldd.\n"
     ]
    },
    {
     "data": {
      "image/svg+xml": [
       "<?xml version=\"1.0\" encoding=\"UTF-8\" standalone=\"no\"?>\n",
       "<!DOCTYPE svg PUBLIC \"-//W3C//DTD SVG 1.1//EN\"\n",
       " \"http://www.w3.org/Graphics/SVG/1.1/DTD/svg11.dtd\">\n",
       "<!-- Generated by graphviz version 2.50.0 (0)\n",
       " -->\n",
       "<!-- Pages: 1 -->\n",
       "<svg width=\"39pt\" height=\"188pt\"\n",
       " viewBox=\"0.00 0.00 39.27 188.00\" xmlns=\"http://www.w3.org/2000/svg\" xmlns:xlink=\"http://www.w3.org/1999/xlink\">\n",
       "<g id=\"graph0\" class=\"graph\" transform=\"scale(1 1) rotate(0) translate(4 184)\">\n",
       "<polygon fill=\"white\" stroke=\"transparent\" points=\"-4,4 -4,-184 35.27,-184 35.27,4 -4,4\"/>\n",
       "<!-- x1 -->\n",
       "<g id=\"node1\" class=\"node\">\n",
       "<title>x1</title>\n",
       "<ellipse fill=\"#c9c9c9\" stroke=\"gray\" cx=\"15.63\" cy=\"-162\" rx=\"15.77\" ry=\"18\"/>\n",
       "<text text-anchor=\"middle\" x=\"15.63\" y=\"-159\" font-family=\"Times New Roman,serif\" font-size=\"10.00\">x1</text>\n",
       "</g>\n",
       "<!-- x2 -->\n",
       "<g id=\"node2\" class=\"node\">\n",
       "<title>x2</title>\n",
       "<ellipse fill=\"#c9c9c9\" stroke=\"gray\" cx=\"15.63\" cy=\"-90\" rx=\"15.77\" ry=\"18\"/>\n",
       "<text text-anchor=\"middle\" x=\"15.63\" y=\"-87\" font-family=\"Times New Roman,serif\" font-size=\"10.00\">x2</text>\n",
       "</g>\n",
       "<!-- x1&#45;&gt;x2 -->\n",
       "<g id=\"edge1\" class=\"edge\">\n",
       "<title>x1&#45;&gt;x2</title>\n",
       "<path fill=\"none\" stroke=\"black\" d=\"M15.63,-143.7C15.63,-135.98 15.63,-126.71 15.63,-118.11\"/>\n",
       "<polygon fill=\"black\" stroke=\"black\" points=\"19.13,-118.1 15.63,-108.1 12.13,-118.1 19.13,-118.1\"/>\n",
       "</g>\n",
       "<!-- x3 -->\n",
       "<g id=\"node3\" class=\"node\">\n",
       "<title>x3</title>\n",
       "<ellipse fill=\"#c9c9c9\" stroke=\"gray\" cx=\"15.63\" cy=\"-18\" rx=\"15.77\" ry=\"18\"/>\n",
       "<text text-anchor=\"middle\" x=\"15.63\" y=\"-15\" font-family=\"Times New Roman,serif\" font-size=\"10.00\">x3</text>\n",
       "</g>\n",
       "<!-- x2&#45;&gt;x3 -->\n",
       "<g id=\"edge2\" class=\"edge\">\n",
       "<title>x2&#45;&gt;x3</title>\n",
       "<path fill=\"none\" stroke=\"black\" d=\"M15.63,-71.7C15.63,-63.98 15.63,-54.71 15.63,-46.11\"/>\n",
       "<polygon fill=\"black\" stroke=\"black\" points=\"19.13,-46.1 15.63,-36.1 12.13,-46.1 19.13,-46.1\"/>\n",
       "</g>\n",
       "</g>\n",
       "</svg>\n"
      ],
      "text/plain": [
       "<graphviz.graphs.Digraph at 0x28ae451ee20>"
      ]
     },
     "execution_count": 24,
     "metadata": {},
     "output_type": "execute_result"
    }
   ],
   "source": [
    "#Example with fake data \n",
    "#In this tree x1 has no parents, x2 has x1 as its parent and x3 hass x2 as its parents\"\n",
    "\n",
    "fake_tree = {'x1':[],\n",
    "             'x2':['x1'],\n",
    "             'x3':['x2']} \n",
    "    \n",
    "graph_from_dict(fake_tree)"
   ]
  },
  {
   "cell_type": "code",
   "execution_count": 37,
   "metadata": {},
   "outputs": [
    {
     "data": {
      "text/html": [
       "<div>\n",
       "<style scoped>\n",
       "    .dataframe tbody tr th:only-of-type {\n",
       "        vertical-align: middle;\n",
       "    }\n",
       "\n",
       "    .dataframe tbody tr th {\n",
       "        vertical-align: top;\n",
       "    }\n",
       "\n",
       "    .dataframe thead th {\n",
       "        text-align: right;\n",
       "    }\n",
       "</style>\n",
       "<table border=\"1\" class=\"dataframe\">\n",
       "  <thead>\n",
       "    <tr style=\"text-align: right;\">\n",
       "      <th></th>\n",
       "      <th>x1</th>\n",
       "      <th>x2</th>\n",
       "      <th>x3</th>\n",
       "    </tr>\n",
       "  </thead>\n",
       "  <tbody>\n",
       "    <tr>\n",
       "      <th>0</th>\n",
       "      <td>1</td>\n",
       "      <td>0</td>\n",
       "      <td>0</td>\n",
       "    </tr>\n",
       "    <tr>\n",
       "      <th>1</th>\n",
       "      <td>1</td>\n",
       "      <td>1</td>\n",
       "      <td>1</td>\n",
       "    </tr>\n",
       "    <tr>\n",
       "      <th>2</th>\n",
       "      <td>0</td>\n",
       "      <td>0</td>\n",
       "      <td>1</td>\n",
       "    </tr>\n",
       "    <tr>\n",
       "      <th>3</th>\n",
       "      <td>1</td>\n",
       "      <td>1</td>\n",
       "      <td>1</td>\n",
       "    </tr>\n",
       "    <tr>\n",
       "      <th>4</th>\n",
       "      <td>0</td>\n",
       "      <td>0</td>\n",
       "      <td>0</td>\n",
       "    </tr>\n",
       "    <tr>\n",
       "      <th>5</th>\n",
       "      <td>0</td>\n",
       "      <td>1</td>\n",
       "      <td>1</td>\n",
       "    </tr>\n",
       "    <tr>\n",
       "      <th>6</th>\n",
       "      <td>1</td>\n",
       "      <td>1</td>\n",
       "      <td>1</td>\n",
       "    </tr>\n",
       "    <tr>\n",
       "      <th>7</th>\n",
       "      <td>0</td>\n",
       "      <td>0</td>\n",
       "      <td>0</td>\n",
       "    </tr>\n",
       "    <tr>\n",
       "      <th>8</th>\n",
       "      <td>1</td>\n",
       "      <td>1</td>\n",
       "      <td>1</td>\n",
       "    </tr>\n",
       "    <tr>\n",
       "      <th>9</th>\n",
       "      <td>0</td>\n",
       "      <td>0</td>\n",
       "      <td>0</td>\n",
       "    </tr>\n",
       "  </tbody>\n",
       "</table>\n",
       "</div>"
      ],
      "text/plain": [
       "   x1  x2  x3\n",
       "0   1   0   0\n",
       "1   1   1   1\n",
       "2   0   0   1\n",
       "3   1   1   1\n",
       "4   0   0   0\n",
       "5   0   1   1\n",
       "6   1   1   1\n",
       "7   0   0   0\n",
       "8   1   1   1\n",
       "9   0   0   0"
      ]
     },
     "metadata": {},
     "output_type": "display_data"
    }
   ],
   "source": [
    "#dataframe with cases for the fake treee\n",
    "fake_data = pd.DataFrame(columns=[\"x1\", \"x2\", \"x3\"], data= np.transpose([[1,1,0,1,0,0,1,0,1,0], [0,1,0,1,0,1,1,0,1,0], [0,1,1,1,0,1,1,0,1,0]]))\n",
    "display(fake_data)"
   ]
  },
  {
   "cell_type": "code",
   "execution_count": 38,
   "metadata": {},
   "outputs": [
    {
     "name": "stdout",
     "output_type": "stream",
     "text": [
      "{'x1': [], 'x2': ['x1'], 'x3': ['x2']}\n"
     ]
    }
   ],
   "source": [
    "#Example of running of K2 using Cooper-Herkovitz score metric\n",
    "\n",
    "#In MDL score the default value to 'c' is 1. \n",
    "#If you want to use Cooper-Herskovits metric score metric do not pass the 'c' param\n",
    "#In this implementation you have the possibility of changing the third parameter 'c' for MDL score\n",
    "\n",
    "result = k2(fake_data,fake_tree)\n",
    "print(result)"
   ]
  },
  {
   "cell_type": "code",
   "execution_count": 30,
   "metadata": {},
   "outputs": [
    {
     "name": "stderr",
     "output_type": "stream",
     "text": [
      "Warning: Could not load \"C:\\Users\\sclab\\anaconda3\\envs\\xai2\\Library\\bin\\gvplugin_pango.dll\" - It was found, so perhaps one of its dependents was not.  Try ldd.\n"
     ]
    },
    {
     "data": {
      "image/svg+xml": [
       "<?xml version=\"1.0\" encoding=\"UTF-8\" standalone=\"no\"?>\n",
       "<!DOCTYPE svg PUBLIC \"-//W3C//DTD SVG 1.1//EN\"\n",
       " \"http://www.w3.org/Graphics/SVG/1.1/DTD/svg11.dtd\">\n",
       "<!-- Generated by graphviz version 2.50.0 (0)\n",
       " -->\n",
       "<!-- Pages: 1 -->\n",
       "<svg width=\"39pt\" height=\"188pt\"\n",
       " viewBox=\"0.00 0.00 39.27 188.00\" xmlns=\"http://www.w3.org/2000/svg\" xmlns:xlink=\"http://www.w3.org/1999/xlink\">\n",
       "<g id=\"graph0\" class=\"graph\" transform=\"scale(1 1) rotate(0) translate(4 184)\">\n",
       "<polygon fill=\"white\" stroke=\"transparent\" points=\"-4,4 -4,-184 35.27,-184 35.27,4 -4,4\"/>\n",
       "<!-- x1 -->\n",
       "<g id=\"node1\" class=\"node\">\n",
       "<title>x1</title>\n",
       "<ellipse fill=\"#c9c9c9\" stroke=\"gray\" cx=\"15.63\" cy=\"-162\" rx=\"15.77\" ry=\"18\"/>\n",
       "<text text-anchor=\"middle\" x=\"15.63\" y=\"-159\" font-family=\"Times New Roman,serif\" font-size=\"10.00\">x1</text>\n",
       "</g>\n",
       "<!-- x2 -->\n",
       "<g id=\"node2\" class=\"node\">\n",
       "<title>x2</title>\n",
       "<ellipse fill=\"#c9c9c9\" stroke=\"gray\" cx=\"15.63\" cy=\"-90\" rx=\"15.77\" ry=\"18\"/>\n",
       "<text text-anchor=\"middle\" x=\"15.63\" y=\"-87\" font-family=\"Times New Roman,serif\" font-size=\"10.00\">x2</text>\n",
       "</g>\n",
       "<!-- x1&#45;&gt;x2 -->\n",
       "<g id=\"edge1\" class=\"edge\">\n",
       "<title>x1&#45;&gt;x2</title>\n",
       "<path fill=\"none\" stroke=\"black\" d=\"M15.63,-143.7C15.63,-135.98 15.63,-126.71 15.63,-118.11\"/>\n",
       "<polygon fill=\"black\" stroke=\"black\" points=\"19.13,-118.1 15.63,-108.1 12.13,-118.1 19.13,-118.1\"/>\n",
       "</g>\n",
       "<!-- x3 -->\n",
       "<g id=\"node3\" class=\"node\">\n",
       "<title>x3</title>\n",
       "<ellipse fill=\"#c9c9c9\" stroke=\"gray\" cx=\"15.63\" cy=\"-18\" rx=\"15.77\" ry=\"18\"/>\n",
       "<text text-anchor=\"middle\" x=\"15.63\" y=\"-15\" font-family=\"Times New Roman,serif\" font-size=\"10.00\">x3</text>\n",
       "</g>\n",
       "<!-- x2&#45;&gt;x3 -->\n",
       "<g id=\"edge2\" class=\"edge\">\n",
       "<title>x2&#45;&gt;x3</title>\n",
       "<path fill=\"none\" stroke=\"black\" d=\"M15.63,-71.7C15.63,-63.98 15.63,-54.71 15.63,-46.11\"/>\n",
       "<polygon fill=\"black\" stroke=\"black\" points=\"19.13,-46.1 15.63,-36.1 12.13,-46.1 19.13,-46.1\"/>\n",
       "</g>\n",
       "</g>\n",
       "</svg>\n"
      ],
      "text/plain": [
       "<graphviz.graphs.Digraph at 0x28ae45ca460>"
      ]
     },
     "execution_count": 30,
     "metadata": {},
     "output_type": "execute_result"
    }
   ],
   "source": [
    "#Plot of the result obtained by K2\n",
    "graph_from_dict(result)"
   ]
  }
 ],
 "metadata": {
  "kernelspec": {
   "display_name": "xai2",
   "language": "python",
   "name": "python3"
  },
  "language_info": {
   "codemirror_mode": {
    "name": "ipython",
    "version": 3
   },
   "file_extension": ".py",
   "mimetype": "text/x-python",
   "name": "python",
   "nbconvert_exporter": "python",
   "pygments_lexer": "ipython3",
   "version": "3.9.18"
  }
 },
 "nbformat": 4,
 "nbformat_minor": 2
}
