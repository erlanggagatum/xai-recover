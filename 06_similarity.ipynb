{
 "cells": [
  {
   "cell_type": "code",
   "execution_count": 1,
   "metadata": {},
   "outputs": [
    {
     "name": "stdout",
     "output_type": "stream",
     "text": [
      "Copyright 2016, Seok-Jun Bu, Softcomputing Lab. All Rights Reserved.\n",
      "Importing Soft-computing Packages . . .\n",
      "\tGeneral python-science packages loaded.\n",
      "\tDeep learning toolkit loaded.\n",
      "\tHandcrafted functions loaded:\n",
      "\t\tsjbu_sample(X, n_sample, shuffle=True/False)\n",
      "\t\tsjbu_scaler(X, mode='standard/robust/minmax/maxabs', channel='first')\n",
      "\t\tsjbu_plot_history(model_history, mode='loss', title='Entropy')\n",
      "\t\tsjbu_confusion_matrix(model_input, feature, label, class_list=['first', 'second'], fig_size=(5,5))\n",
      "\t\tsjbu_categorical_recall(input_class_idx)\n",
      "\t\tsjbu_set_font(font_family='Times New Roman', font_size=10)\n",
      ". . . Done.\n"
     ]
    }
   ],
   "source": [
    "from softcomputing_packages_bu import *"
   ]
  },
  {
   "cell_type": "code",
   "execution_count": 9,
   "metadata": {},
   "outputs": [],
   "source": [
    "from math import *\n",
    "def square_rooted(x):\n",
    "    return round(sqrt(sum([a * a for a in x])), 4)\n",
    "def cosine_similarity(x, y):\n",
    "    numerator = sum(a * b for a, b in zip(x, y))\n",
    "    denominator = square_rooted(x) * square_rooted(y)\n",
    "    return round(numerator / float(denominator), 4)\n",
    "def jaccard_similarity(x, y):\n",
    "    intersection_cardinality = len(set.intersection(*[set(x), set(y)]))\n",
    "    union_cardinality = len(set.union(*[set(x), set(y)]))\n",
    "    return intersection_cardinality / float(union_cardinality)"
   ]
  },
  {
   "cell_type": "code",
   "execution_count": 11,
   "metadata": {},
   "outputs": [
    {
     "name": "stdout",
     "output_type": "stream",
     "text": [
      "0.9945\n"
     ]
    }
   ],
   "source": [
    "ecp_0_tr = [.12, .36, .19, .34, .10, .14, .41, .35, .29, .39, .09, .23, .11, .89, .71, .29]\n",
    "ecp_0_te = [.21, .31, .16, .32, .12, .14, .40, .33, .29, .39, .09, .23, .11, .89, .63, .37]\n",
    "print(cosine_similarity(ecp_0_tr, ecp_0_te))"
   ]
  },
  {
   "cell_type": "code",
   "execution_count": 12,
   "metadata": {},
   "outputs": [
    {
     "name": "stdout",
     "output_type": "stream",
     "text": [
      "0.9347\n"
     ]
    }
   ],
   "source": [
    "ecp_1_tr = [.44, .07, .34, .16, .30, .23, .8, .38, .49, .51, .42, .13, .23, .22, .41, .22, .10, .27, .83, .17, .71, .29, .56, .44]\n",
    "ecp_1_te = [.43, .08, .35, .15, .28, .24, .09, .39, .44, .56, .40, .14, .23, .23, .42, .22, .10, .27, .84, .16, .62, .38, .53, .47]\n",
    "print(cosine_similarity(ecp_1_tr, ecp_1_te))"
   ]
  },
  {
   "cell_type": "code",
   "execution_count": 13,
   "metadata": {},
   "outputs": [
    {
     "name": "stdout",
     "output_type": "stream",
     "text": [
      "0.9948\n"
     ]
    }
   ],
   "source": [
    "ecp_2_tr = [.27, .29, .25, .20, .21, .22, .26, .31, .23, .28, .22, .26, .13, .17, .28, .42, .22, .27, .16, .36, .43, .57, .18, .16, .02, .64, .53, .47]\n",
    "ecp_2_te = [.26, .29, .25, .20, .17, .23, .26, .34, .23, .28, .23, .26, .12, .17, .27, .45, .23, .26, .14, .37, .45, .55, .16, .17, .02, .65, .64, .36]\n",
    "print(cosine_similarity(ecp_2_tr, ecp_2_te))"
   ]
  },
  {
   "cell_type": "code",
   "execution_count": null,
   "metadata": {},
   "outputs": [],
   "source": []
  }
 ],
 "metadata": {
  "kernelspec": {
   "display_name": "Python 3",
   "language": "python",
   "name": "python3"
  },
  "language_info": {
   "codemirror_mode": {
    "name": "ipython",
    "version": 3
   },
   "file_extension": ".py",
   "mimetype": "text/x-python",
   "name": "python",
   "nbconvert_exporter": "python",
   "pygments_lexer": "ipython3",
   "version": "3.8.3"
  }
 },
 "nbformat": 4,
 "nbformat_minor": 4
}
