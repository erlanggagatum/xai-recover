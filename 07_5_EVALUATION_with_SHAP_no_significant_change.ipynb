{
 "cells": [
  {
   "cell_type": "markdown",
   "metadata": {},
   "source": [
    "#### This is final evaluation"
   ]
  },
  {
   "cell_type": "code",
   "execution_count": 1,
   "metadata": {},
   "outputs": [
    {
     "name": "stdout",
     "output_type": "stream",
     "text": [
      "WARNING:tensorflow:From c:\\Users\\sclab\\anaconda3\\envs\\xai2\\lib\\site-packages\\keras\\src\\losses.py:2976: The name tf.losses.sparse_softmax_cross_entropy is deprecated. Please use tf.compat.v1.losses.sparse_softmax_cross_entropy instead.\n",
      "\n"
     ]
    },
    {
     "name": "stderr",
     "output_type": "stream",
     "text": [
      "IProgress not found. Please update jupyter and ipywidgets. See https://ipywidgets.readthedocs.io/en/stable/user_install.html\n"
     ]
    }
   ],
   "source": [
    "import sys\n",
    "sys.path.append('../src')\n",
    "# from causal_shapley import causal_shapley, predict_proba\n",
    "from egtoolkit import *\n",
    "%load_ext autoreload\n",
    "%autoreload 2\n",
    "\n",
    "from egtoolkit import *\n",
    "\n",
    "import random\n",
    "import warnings\n",
    "import numpy as np\n",
    "import pandas as pd\n",
    "from sklearn.datasets import load_breast_cancer\n",
    "from sklearn.model_selection import train_test_split\n",
    "from sklearn.preprocessing import StandardScaler\n",
    "from sklearn.linear_model import LogisticRegression\n",
    "from sklearn.pipeline import make_pipeline\n",
    "import itertools\n",
    "from itertools import combinations, permutations, chain\n",
    "\n",
    "import shap\n",
    "\n",
    "warnings.filterwarnings(\"ignore\")\n",
    "import networkx as nx\n",
    "import matplotlib.pyplot as plt\n",
    "import seaborn as sns\n",
    "\n",
    "from imblearn.under_sampling import RandomUnderSampler\n",
    "\n",
    "from pgmpy.models import BayesianNetwork\n",
    "from pgmpy.inference import VariableElimination\n",
    "from pgmpy.factors.discrete.CPD import TabularCPD"
   ]
  },
  {
   "cell_type": "markdown",
   "metadata": {},
   "source": [
    "## Import dataset"
   ]
  },
  {
   "cell_type": "code",
   "execution_count": 2,
   "metadata": {},
   "outputs": [],
   "source": [
    "categorical_cols = ['global_active_power', 'global_reactive_power', 'voltage',\n",
    "                    'global_intensity', 'kitchen', 'laundry', 'climate_control', 'other',\n",
    "                    'weekend', 'month_name', 'season_name', 'day_name']  # list all columns that are categorical"
   ]
  },
  {
   "cell_type": "code",
   "execution_count": 3,
   "metadata": {},
   "outputs": [],
   "source": [
    "dataset = pd.read_csv('./datasets/2.0-discretized-v2-3-peak-label-encoded.csv')"
   ]
  },
  {
   "cell_type": "code",
   "execution_count": 4,
   "metadata": {},
   "outputs": [
    {
     "data": {
      "text/plain": [
       "array([[False],\n",
       "       [False],\n",
       "       [False],\n",
       "       ...,\n",
       "       [False],\n",
       "       [False],\n",
       "       [False]])"
      ]
     },
     "execution_count": 4,
     "metadata": {},
     "output_type": "execute_result"
    }
   ],
   "source": [
    "dataset[['peak_warning']].values"
   ]
  },
  {
   "cell_type": "code",
   "execution_count": 12,
   "metadata": {},
   "outputs": [],
   "source": [
    "targets = ['peak_label_pred', 'peak_warning', 'no_significant_change', 'lower_than_usual']\n",
    "targets_only = ['peak_label_pred', 'peak_warning', 'lower_than_usual']"
   ]
  },
  {
   "cell_type": "code",
   "execution_count": 13,
   "metadata": {},
   "outputs": [
    {
     "data": {
      "text/plain": [
       "Index(['global_active_power', 'global_reactive_power', 'voltage',\n",
       "       'global_intensity', 'kitchen', 'laundry', 'climate_control', 'other',\n",
       "       'weekend', 'month_name', 'season_name', 'day_name', 'peak_label_pred',\n",
       "       'peak_warning', 'no_significant_change', 'lower_than_usual'],\n",
       "      dtype='object')"
      ]
     },
     "execution_count": 13,
     "metadata": {},
     "output_type": "execute_result"
    }
   ],
   "source": [
    "dataset.columns"
   ]
  },
  {
   "cell_type": "code",
   "execution_count": 14,
   "metadata": {},
   "outputs": [
    {
     "data": {
      "text/plain": [
       "array([False, False, False, ..., False, False, False])"
      ]
     },
     "execution_count": 14,
     "metadata": {},
     "output_type": "execute_result"
    }
   ],
   "source": [
    "dataset['peak_warning'].values"
   ]
  },
  {
   "cell_type": "code",
   "execution_count": 15,
   "metadata": {},
   "outputs": [
    {
     "data": {
      "text/plain": [
       "(41673, 16)"
      ]
     },
     "execution_count": 15,
     "metadata": {},
     "output_type": "execute_result"
    }
   ],
   "source": [
    "dataset.shape"
   ]
  },
  {
   "cell_type": "code",
   "execution_count": 20,
   "metadata": {},
   "outputs": [
    {
     "data": {
      "text/html": [
       "<div>\n",
       "<style scoped>\n",
       "    .dataframe tbody tr th:only-of-type {\n",
       "        vertical-align: middle;\n",
       "    }\n",
       "\n",
       "    .dataframe tbody tr th {\n",
       "        vertical-align: top;\n",
       "    }\n",
       "\n",
       "    .dataframe thead th {\n",
       "        text-align: right;\n",
       "    }\n",
       "</style>\n",
       "<table border=\"1\" class=\"dataframe\">\n",
       "  <thead>\n",
       "    <tr style=\"text-align: right;\">\n",
       "      <th></th>\n",
       "      <th>global_active_power</th>\n",
       "      <th>global_reactive_power</th>\n",
       "      <th>voltage</th>\n",
       "      <th>global_intensity</th>\n",
       "      <th>kitchen</th>\n",
       "      <th>laundry</th>\n",
       "      <th>climate_control</th>\n",
       "      <th>other</th>\n",
       "      <th>weekend</th>\n",
       "      <th>month_name</th>\n",
       "      <th>season_name</th>\n",
       "      <th>day_name</th>\n",
       "      <th>peak_label_pred</th>\n",
       "      <th>peak_warning</th>\n",
       "      <th>no_significant_change</th>\n",
       "      <th>lower_than_usual</th>\n",
       "    </tr>\n",
       "  </thead>\n",
       "  <tbody>\n",
       "    <tr>\n",
       "      <th>38128</th>\n",
       "      <td>Low</td>\n",
       "      <td>Medium</td>\n",
       "      <td>High</td>\n",
       "      <td>Low</td>\n",
       "      <td>Medium</td>\n",
       "      <td>Medium</td>\n",
       "      <td>Medium</td>\n",
       "      <td>Low</td>\n",
       "      <td>True</td>\n",
       "      <td>september</td>\n",
       "      <td>autumn</td>\n",
       "      <td>sunday</td>\n",
       "      <td>lower_than_usual</td>\n",
       "      <td>False</td>\n",
       "      <td>False</td>\n",
       "      <td>True</td>\n",
       "    </tr>\n",
       "    <tr>\n",
       "      <th>34353</th>\n",
       "      <td>Medium</td>\n",
       "      <td>Low</td>\n",
       "      <td>Medium</td>\n",
       "      <td>Medium</td>\n",
       "      <td>Medium</td>\n",
       "      <td>Low</td>\n",
       "      <td>High</td>\n",
       "      <td>Low</td>\n",
       "      <td>False</td>\n",
       "      <td>september</td>\n",
       "      <td>autumn</td>\n",
       "      <td>tuesday</td>\n",
       "      <td>lower_than_usual</td>\n",
       "      <td>False</td>\n",
       "      <td>False</td>\n",
       "      <td>True</td>\n",
       "    </tr>\n",
       "    <tr>\n",
       "      <th>24951</th>\n",
       "      <td>Very High</td>\n",
       "      <td>High</td>\n",
       "      <td>Low</td>\n",
       "      <td>Very High</td>\n",
       "      <td>Low</td>\n",
       "      <td>Very High</td>\n",
       "      <td>High</td>\n",
       "      <td>Very High</td>\n",
       "      <td>True</td>\n",
       "      <td>april</td>\n",
       "      <td>spring</td>\n",
       "      <td>saturday</td>\n",
       "      <td>peak_warning</td>\n",
       "      <td>True</td>\n",
       "      <td>False</td>\n",
       "      <td>False</td>\n",
       "    </tr>\n",
       "    <tr>\n",
       "      <th>32779</th>\n",
       "      <td>Low</td>\n",
       "      <td>Low</td>\n",
       "      <td>High</td>\n",
       "      <td>Low</td>\n",
       "      <td>Low</td>\n",
       "      <td>Low</td>\n",
       "      <td>Low</td>\n",
       "      <td>Medium</td>\n",
       "      <td>False</td>\n",
       "      <td>january</td>\n",
       "      <td>winter</td>\n",
       "      <td>monday</td>\n",
       "      <td>lower_than_usual</td>\n",
       "      <td>False</td>\n",
       "      <td>False</td>\n",
       "      <td>True</td>\n",
       "    </tr>\n",
       "    <tr>\n",
       "      <th>37580</th>\n",
       "      <td>Low</td>\n",
       "      <td>Medium</td>\n",
       "      <td>Low</td>\n",
       "      <td>Low</td>\n",
       "      <td>Low</td>\n",
       "      <td>Low</td>\n",
       "      <td>Low</td>\n",
       "      <td>Low</td>\n",
       "      <td>False</td>\n",
       "      <td>july</td>\n",
       "      <td>summer</td>\n",
       "      <td>friday</td>\n",
       "      <td>lower_than_usual</td>\n",
       "      <td>False</td>\n",
       "      <td>False</td>\n",
       "      <td>True</td>\n",
       "    </tr>\n",
       "  </tbody>\n",
       "</table>\n",
       "</div>"
      ],
      "text/plain": [
       "      global_active_power global_reactive_power voltage global_intensity  \\\n",
       "38128                 Low                Medium    High              Low   \n",
       "34353              Medium                   Low  Medium           Medium   \n",
       "24951           Very High                  High     Low        Very High   \n",
       "32779                 Low                   Low    High              Low   \n",
       "37580                 Low                Medium     Low              Low   \n",
       "\n",
       "      kitchen    laundry climate_control      other  weekend month_name  \\\n",
       "38128  Medium     Medium          Medium        Low     True  september   \n",
       "34353  Medium        Low            High        Low    False  september   \n",
       "24951     Low  Very High            High  Very High     True      april   \n",
       "32779     Low        Low             Low     Medium    False    january   \n",
       "37580     Low        Low             Low        Low    False       july   \n",
       "\n",
       "      season_name  day_name   peak_label_pred  peak_warning  \\\n",
       "38128      autumn    sunday  lower_than_usual         False   \n",
       "34353      autumn   tuesday  lower_than_usual         False   \n",
       "24951      spring  saturday      peak_warning          True   \n",
       "32779      winter    monday  lower_than_usual         False   \n",
       "37580      summer    friday  lower_than_usual         False   \n",
       "\n",
       "       no_significant_change  lower_than_usual  \n",
       "38128                  False              True  \n",
       "34353                  False              True  \n",
       "24951                  False             False  \n",
       "32779                  False              True  \n",
       "37580                  False              True  "
      ]
     },
     "execution_count": 20,
     "metadata": {},
     "output_type": "execute_result"
    }
   ],
   "source": [
    "sample = 50\n",
    "background = dataset.drop(columns=targets).sample(sample, random_state=4)\n",
    "indexes = background.index.tolist()\n",
    "dataset.iloc[indexes].head(5)"
   ]
  },
  {
   "cell_type": "code",
   "execution_count": 21,
   "metadata": {},
   "outputs": [
    {
     "data": {
      "text/html": [
       "<div>\n",
       "<style scoped>\n",
       "    .dataframe tbody tr th:only-of-type {\n",
       "        vertical-align: middle;\n",
       "    }\n",
       "\n",
       "    .dataframe tbody tr th {\n",
       "        vertical-align: top;\n",
       "    }\n",
       "\n",
       "    .dataframe thead th {\n",
       "        text-align: right;\n",
       "    }\n",
       "</style>\n",
       "<table border=\"1\" class=\"dataframe\">\n",
       "  <thead>\n",
       "    <tr style=\"text-align: right;\">\n",
       "      <th></th>\n",
       "      <th>global_active_power</th>\n",
       "      <th>global_reactive_power</th>\n",
       "      <th>voltage</th>\n",
       "      <th>global_intensity</th>\n",
       "      <th>kitchen</th>\n",
       "      <th>laundry</th>\n",
       "      <th>climate_control</th>\n",
       "      <th>other</th>\n",
       "      <th>weekend</th>\n",
       "      <th>month_name</th>\n",
       "      <th>season_name</th>\n",
       "      <th>day_name</th>\n",
       "    </tr>\n",
       "  </thead>\n",
       "  <tbody>\n",
       "    <tr>\n",
       "      <th>38128</th>\n",
       "      <td>Low</td>\n",
       "      <td>Medium</td>\n",
       "      <td>High</td>\n",
       "      <td>Low</td>\n",
       "      <td>Medium</td>\n",
       "      <td>Medium</td>\n",
       "      <td>Medium</td>\n",
       "      <td>Low</td>\n",
       "      <td>True</td>\n",
       "      <td>september</td>\n",
       "      <td>autumn</td>\n",
       "      <td>sunday</td>\n",
       "    </tr>\n",
       "    <tr>\n",
       "      <th>34353</th>\n",
       "      <td>Medium</td>\n",
       "      <td>Low</td>\n",
       "      <td>Medium</td>\n",
       "      <td>Medium</td>\n",
       "      <td>Medium</td>\n",
       "      <td>Low</td>\n",
       "      <td>High</td>\n",
       "      <td>Low</td>\n",
       "      <td>False</td>\n",
       "      <td>september</td>\n",
       "      <td>autumn</td>\n",
       "      <td>tuesday</td>\n",
       "    </tr>\n",
       "    <tr>\n",
       "      <th>24951</th>\n",
       "      <td>Very High</td>\n",
       "      <td>High</td>\n",
       "      <td>Low</td>\n",
       "      <td>Very High</td>\n",
       "      <td>Low</td>\n",
       "      <td>Very High</td>\n",
       "      <td>High</td>\n",
       "      <td>Very High</td>\n",
       "      <td>True</td>\n",
       "      <td>april</td>\n",
       "      <td>spring</td>\n",
       "      <td>saturday</td>\n",
       "    </tr>\n",
       "    <tr>\n",
       "      <th>32779</th>\n",
       "      <td>Low</td>\n",
       "      <td>Low</td>\n",
       "      <td>High</td>\n",
       "      <td>Low</td>\n",
       "      <td>Low</td>\n",
       "      <td>Low</td>\n",
       "      <td>Low</td>\n",
       "      <td>Medium</td>\n",
       "      <td>False</td>\n",
       "      <td>january</td>\n",
       "      <td>winter</td>\n",
       "      <td>monday</td>\n",
       "    </tr>\n",
       "    <tr>\n",
       "      <th>37580</th>\n",
       "      <td>Low</td>\n",
       "      <td>Medium</td>\n",
       "      <td>Low</td>\n",
       "      <td>Low</td>\n",
       "      <td>Low</td>\n",
       "      <td>Low</td>\n",
       "      <td>Low</td>\n",
       "      <td>Low</td>\n",
       "      <td>False</td>\n",
       "      <td>july</td>\n",
       "      <td>summer</td>\n",
       "      <td>friday</td>\n",
       "    </tr>\n",
       "  </tbody>\n",
       "</table>\n",
       "</div>"
      ],
      "text/plain": [
       "      global_active_power global_reactive_power voltage global_intensity  \\\n",
       "38128                 Low                Medium    High              Low   \n",
       "34353              Medium                   Low  Medium           Medium   \n",
       "24951           Very High                  High     Low        Very High   \n",
       "32779                 Low                   Low    High              Low   \n",
       "37580                 Low                Medium     Low              Low   \n",
       "\n",
       "      kitchen    laundry climate_control      other  weekend month_name  \\\n",
       "38128  Medium     Medium          Medium        Low     True  september   \n",
       "34353  Medium        Low            High        Low    False  september   \n",
       "24951     Low  Very High            High  Very High     True      april   \n",
       "32779     Low        Low             Low     Medium    False    january   \n",
       "37580     Low        Low             Low        Low    False       july   \n",
       "\n",
       "      season_name  day_name  \n",
       "38128      autumn    sunday  \n",
       "34353      autumn   tuesday  \n",
       "24951      spring  saturday  \n",
       "32779      winter    monday  \n",
       "37580      summer    friday  "
      ]
     },
     "execution_count": 21,
     "metadata": {},
     "output_type": "execute_result"
    }
   ],
   "source": [
    "background.head(5)"
   ]
  },
  {
   "cell_type": "code",
   "execution_count": 24,
   "metadata": {},
   "outputs": [
    {
     "name": "stdout",
     "output_type": "stream",
     "text": [
      "=================\n",
      "non dataframe instance\n",
      "Finding outcome based on prediction result with data Shape (50, 12)...\n",
      "Output shape from custom_predict: (50, 1)\n",
      "Done...\n",
      "\n"
     ]
    }
   ],
   "source": [
    "_data = dataset.drop(columns=targets_only)\n",
    "\n",
    "def find_outcome(observation):\n",
    "    # Iterate through each record in the data\n",
    "    # print(len(data.values))\n",
    "    for record in _data.values:\n",
    "        # print('obs', observation)\n",
    "        if (record[:-1] == observation).all():\n",
    "            # print('Found!')\n",
    "            # print('Record: ', record)\n",
    "            # print('Observation: ', observation)\n",
    "            return record[-1]  # Return the last item (True/False) if there's a match\n",
    "    return None  # Return None if  no match is found\n",
    "\n",
    "def custom_predict(data):\n",
    "    # Debugging to check input data shape\n",
    "    print('=================')\n",
    "    # print(\"Input shape to custom_predict:\", data.shape)\n",
    "    # if data.shape[0] == 621600:\n",
    "    #     print(data)\n",
    "\n",
    "    # Assuming boolean to integer conversion as before\n",
    "    predictions = []\n",
    "    # encode = {True: 1.0, False: 0.0}\n",
    "    encode = {True: 1.0, False: 0.0, None: random.uniform(0.4, 0.6)}\n",
    "    if isinstance(data, pd.DataFrame):\n",
    "        print('dataframe instance')\n",
    "        predictions = data['no_significant_change'].apply(lambda x: encode[x]).values\n",
    "    else:\n",
    "        print('non dataframe instance')\n",
    "        # predictions = np.array([encode[bool(p)] for p in data[:, -1]])\n",
    "        # print(predictions)\n",
    "        # print(p)\n",
    "        print(f'Finding outcome based on prediction result with data Shape {data.shape}...')\n",
    "        for observation in data[:,:]:\n",
    "            predictions.append(encode[find_outcome(observation)])\n",
    "            # print(predictions)\n",
    "            # break\n",
    "        # print(predictions)\n",
    "        predictions = np.array(predictions)\n",
    "        \n",
    "    # print('data', data)\n",
    "    \n",
    "    # Ensure the output is correctly shaped\n",
    "    predictions = predictions.reshape(-1, 1)\n",
    "    print(\"Output shape from custom_predict:\", predictions.shape)\n",
    "    print('Done...')\n",
    "    print('')\n",
    "    return predictions\n",
    "explainer = shap.KernelExplainer(custom_predict, background)"
   ]
  },
  {
   "cell_type": "code",
   "execution_count": 26,
   "metadata": {},
   "outputs": [
    {
     "data": {
      "text/html": [
       "<div>\n",
       "<style scoped>\n",
       "    .dataframe tbody tr th:only-of-type {\n",
       "        vertical-align: middle;\n",
       "    }\n",
       "\n",
       "    .dataframe tbody tr th {\n",
       "        vertical-align: top;\n",
       "    }\n",
       "\n",
       "    .dataframe thead th {\n",
       "        text-align: right;\n",
       "    }\n",
       "</style>\n",
       "<table border=\"1\" class=\"dataframe\">\n",
       "  <thead>\n",
       "    <tr style=\"text-align: right;\">\n",
       "      <th></th>\n",
       "      <th>global_active_power</th>\n",
       "      <th>global_reactive_power</th>\n",
       "      <th>voltage</th>\n",
       "      <th>global_intensity</th>\n",
       "      <th>kitchen</th>\n",
       "      <th>laundry</th>\n",
       "      <th>climate_control</th>\n",
       "      <th>other</th>\n",
       "      <th>weekend</th>\n",
       "      <th>month_name</th>\n",
       "      <th>season_name</th>\n",
       "      <th>day_name</th>\n",
       "      <th>no_significant_change</th>\n",
       "    </tr>\n",
       "  </thead>\n",
       "  <tbody>\n",
       "    <tr>\n",
       "      <th>0</th>\n",
       "      <td>Very High</td>\n",
       "      <td>Low</td>\n",
       "      <td>Low</td>\n",
       "      <td>Very High</td>\n",
       "      <td>High</td>\n",
       "      <td>Medium</td>\n",
       "      <td>High</td>\n",
       "      <td>Very High</td>\n",
       "      <td>True</td>\n",
       "      <td>march</td>\n",
       "      <td>spring</td>\n",
       "      <td>saturday</td>\n",
       "      <td>True</td>\n",
       "    </tr>\n",
       "    <tr>\n",
       "      <th>1</th>\n",
       "      <td>High</td>\n",
       "      <td>Low</td>\n",
       "      <td>High</td>\n",
       "      <td>High</td>\n",
       "      <td>Low</td>\n",
       "      <td>Low</td>\n",
       "      <td>High</td>\n",
       "      <td>High</td>\n",
       "      <td>False</td>\n",
       "      <td>january</td>\n",
       "      <td>winter</td>\n",
       "      <td>thursday</td>\n",
       "      <td>True</td>\n",
       "    </tr>\n",
       "    <tr>\n",
       "      <th>2</th>\n",
       "      <td>Very High</td>\n",
       "      <td>High</td>\n",
       "      <td>High</td>\n",
       "      <td>Very High</td>\n",
       "      <td>Medium</td>\n",
       "      <td>Medium</td>\n",
       "      <td>Very High</td>\n",
       "      <td>Very High</td>\n",
       "      <td>False</td>\n",
       "      <td>january</td>\n",
       "      <td>winter</td>\n",
       "      <td>friday</td>\n",
       "      <td>True</td>\n",
       "    </tr>\n",
       "    <tr>\n",
       "      <th>3</th>\n",
       "      <td>Low</td>\n",
       "      <td>Low</td>\n",
       "      <td>Low</td>\n",
       "      <td>Low</td>\n",
       "      <td>Medium</td>\n",
       "      <td>Low</td>\n",
       "      <td>Low</td>\n",
       "      <td>Medium</td>\n",
       "      <td>False</td>\n",
       "      <td>february</td>\n",
       "      <td>winter</td>\n",
       "      <td>friday</td>\n",
       "      <td>True</td>\n",
       "    </tr>\n",
       "    <tr>\n",
       "      <th>4</th>\n",
       "      <td>Very High</td>\n",
       "      <td>Low</td>\n",
       "      <td>Very High</td>\n",
       "      <td>Very High</td>\n",
       "      <td>Low</td>\n",
       "      <td>Low</td>\n",
       "      <td>Low</td>\n",
       "      <td>Very High</td>\n",
       "      <td>True</td>\n",
       "      <td>december</td>\n",
       "      <td>winter</td>\n",
       "      <td>saturday</td>\n",
       "      <td>True</td>\n",
       "    </tr>\n",
       "  </tbody>\n",
       "</table>\n",
       "</div>"
      ],
      "text/plain": [
       "  global_active_power global_reactive_power    voltage global_intensity  \\\n",
       "0           Very High                   Low        Low        Very High   \n",
       "1                High                   Low       High             High   \n",
       "2           Very High                  High       High        Very High   \n",
       "3                 Low                   Low        Low              Low   \n",
       "4           Very High                   Low  Very High        Very High   \n",
       "\n",
       "  kitchen laundry climate_control      other  weekend month_name season_name  \\\n",
       "0    High  Medium            High  Very High     True      march      spring   \n",
       "1     Low     Low            High       High    False    january      winter   \n",
       "2  Medium  Medium       Very High  Very High    False    january      winter   \n",
       "3  Medium     Low             Low     Medium    False   february      winter   \n",
       "4     Low     Low             Low  Very High     True   december      winter   \n",
       "\n",
       "   day_name  no_significant_change  \n",
       "0  saturday                   True  \n",
       "1  thursday                   True  \n",
       "2    friday                   True  \n",
       "3    friday                   True  \n",
       "4  saturday                   True  "
      ]
     },
     "execution_count": 26,
     "metadata": {},
     "output_type": "execute_result"
    }
   ],
   "source": [
    "_data.head(5)"
   ]
  },
  {
   "cell_type": "markdown",
   "metadata": {},
   "source": [
    "TEST BASED ON EVIDENCE (FROM ARM)"
   ]
  },
  {
   "cell_type": "code",
   "execution_count": 29,
   "metadata": {},
   "outputs": [
    {
     "data": {
      "text/html": [
       "<div>\n",
       "<style scoped>\n",
       "    .dataframe tbody tr th:only-of-type {\n",
       "        vertical-align: middle;\n",
       "    }\n",
       "\n",
       "    .dataframe tbody tr th {\n",
       "        vertical-align: top;\n",
       "    }\n",
       "\n",
       "    .dataframe thead th {\n",
       "        text-align: right;\n",
       "    }\n",
       "</style>\n",
       "<table border=\"1\" class=\"dataframe\">\n",
       "  <thead>\n",
       "    <tr style=\"text-align: right;\">\n",
       "      <th></th>\n",
       "      <th>global_active_power</th>\n",
       "      <th>global_reactive_power</th>\n",
       "      <th>voltage</th>\n",
       "      <th>global_intensity</th>\n",
       "      <th>kitchen</th>\n",
       "      <th>laundry</th>\n",
       "      <th>climate_control</th>\n",
       "      <th>other</th>\n",
       "      <th>weekend</th>\n",
       "      <th>month_name</th>\n",
       "      <th>season_name</th>\n",
       "      <th>day_name</th>\n",
       "    </tr>\n",
       "  </thead>\n",
       "  <tbody>\n",
       "    <tr>\n",
       "      <th>23</th>\n",
       "      <td>Medium</td>\n",
       "      <td>Medium</td>\n",
       "      <td>Very High</td>\n",
       "      <td>Medium</td>\n",
       "      <td>Medium</td>\n",
       "      <td>Very High</td>\n",
       "      <td>Low</td>\n",
       "      <td>High</td>\n",
       "      <td>False</td>\n",
       "      <td>january</td>\n",
       "      <td>winter</td>\n",
       "      <td>friday</td>\n",
       "    </tr>\n",
       "  </tbody>\n",
       "</table>\n",
       "</div>"
      ],
      "text/plain": [
       "   global_active_power global_reactive_power    voltage global_intensity  \\\n",
       "23              Medium                Medium  Very High           Medium   \n",
       "\n",
       "   kitchen    laundry climate_control other  weekend month_name season_name  \\\n",
       "23  Medium  Very High             Low  High    False    january      winter   \n",
       "\n",
       "   day_name  \n",
       "23   friday  "
      ]
     },
     "execution_count": 29,
     "metadata": {},
     "output_type": "execute_result"
    }
   ],
   "source": [
    "observation_peak = dataset[(dataset.global_active_power == 'Medium') &\n",
    "        (dataset.global_intensity == 'Medium') &\n",
    "        (dataset.no_significant_change == True) &\n",
    "        (dataset.voltage == 'Very High') &\n",
    "        (dataset.weekend == False) \n",
    "        ].iloc[:1,:]\n",
    "observation_peak.drop(columns=['peak_label_pred','peak_warning','no_significant_change','lower_than_usual'], inplace=True)\n",
    "observation_peak"
   ]
  },
  {
   "cell_type": "code",
   "execution_count": 30,
   "metadata": {},
   "outputs": [
    {
     "name": "stdout",
     "output_type": "stream",
     "text": [
      "Observation shape before SHAP: (1, 12)\n",
      "Observation:    global_active_power global_reactive_power    voltage global_intensity  \\\n",
      "23              Medium                Medium  Very High           Medium   \n",
      "\n",
      "   kitchen    laundry climate_control other  weekend month_name season_name  \\\n",
      "23  Medium  Very High             Low  High    False    january      winter   \n",
      "\n",
      "   day_name  \n",
      "23   friday  \n"
     ]
    },
    {
     "name": "stderr",
     "output_type": "stream",
     "text": [
      "  0%|          | 0/1 [00:00<?, ?it/s]INFO:shap:num_full_subsets = 3\n",
      "INFO:shap:remaining_weight_vector = array([0.35673839, 0.32616082, 0.31710079])\n",
      "INFO:shap:num_paired_subset_sizes = 5\n",
      "INFO:shap:weight_left = 0.2929005745959313\n"
     ]
    },
    {
     "name": "stdout",
     "output_type": "stream",
     "text": [
      "=================\n",
      "non dataframe instance\n",
      "Finding outcome based on prediction result with data Shape (1, 12)...\n",
      "Output shape from custom_predict: (1, 1)\n",
      "Done...\n",
      "\n",
      "=================\n",
      "non dataframe instance\n",
      "Finding outcome based on prediction result with data Shape (103600, 12)...\n"
     ]
    }
   ],
   "source": [
    "print(\"Observation shape before SHAP:\", observation_peak.shape)\n",
    "print('Observation:', observation_peak)\n",
    "\n",
    "try:\n",
    "    shap_values = explainer.shap_values(observation_peak)\n",
    "    # shap_values = explainer.shap_values(background.iloc[0])\n",
    "except Exception as e:\n",
    "    print(\"Error during SHAP computation:\", e)\n",
    "# # (10360, 1)"
   ]
  },
  {
   "cell_type": "code",
   "execution_count": null,
   "metadata": {},
   "outputs": [
    {
     "data": {
      "text/plain": [
       "(global_active_power           High\n",
       " global_reactive_power       Medium\n",
       " voltage                        Low\n",
       " global_intensity         Very High\n",
       " kitchen                  Very High\n",
       " laundry                  Very High\n",
       " climate_control          Very High\n",
       " other                    Very High\n",
       " weekend                       True\n",
       " month_name               september\n",
       " season_name                 autumn\n",
       " day_name                    sunday\n",
       " Name: 0, dtype: object,\n",
       " [array([[0.01695862, 0.01518858, 0.0315374 , 0.02940806, 0.03120862,\n",
       "          0.02077708, 0.02532081, 0.03246558, 0.02024132, 0.01981452,\n",
       "          0.01466551, 0.01899645]])])"
      ]
     },
     "execution_count": 44,
     "metadata": {},
     "output_type": "execute_result"
    }
   ],
   "source": [
    "observation_peak.iloc[0], shap_values"
   ]
  }
 ],
 "metadata": {
  "kernelspec": {
   "display_name": "xai2",
   "language": "python",
   "name": "python3"
  },
  "language_info": {
   "codemirror_mode": {
    "name": "ipython",
    "version": 3
   },
   "file_extension": ".py",
   "mimetype": "text/x-python",
   "name": "python",
   "nbconvert_exporter": "python",
   "pygments_lexer": "ipython3",
   "version": "3.9.18"
  }
 },
 "nbformat": 4,
 "nbformat_minor": 2
}
