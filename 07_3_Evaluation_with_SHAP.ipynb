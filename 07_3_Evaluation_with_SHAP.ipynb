{
 "cells": [
  {
   "cell_type": "code",
   "execution_count": 1,
   "metadata": {},
   "outputs": [
    {
     "name": "stdout",
     "output_type": "stream",
     "text": [
      "WARNING:tensorflow:From c:\\Users\\sclab\\anaconda3\\envs\\xai2\\lib\\site-packages\\keras\\src\\losses.py:2976: The name tf.losses.sparse_softmax_cross_entropy is deprecated. Please use tf.compat.v1.losses.sparse_softmax_cross_entropy instead.\n",
      "\n"
     ]
    },
    {
     "name": "stderr",
     "output_type": "stream",
     "text": [
      "IProgress not found. Please update jupyter and ipywidgets. See https://ipywidgets.readthedocs.io/en/stable/user_install.html\n"
     ]
    }
   ],
   "source": [
    "import sys\n",
    "sys.path.append('../src')\n",
    "# from causal_shapley import causal_shapley, predict_proba\n",
    "from egtoolkit import *\n",
    "%load_ext autoreload\n",
    "%autoreload 2\n",
    "\n",
    "from egtoolkit import *\n",
    "\n",
    "import random\n",
    "import warnings\n",
    "import numpy as np\n",
    "import pandas as pd\n",
    "from sklearn.datasets import load_breast_cancer\n",
    "from sklearn.model_selection import train_test_split\n",
    "from sklearn.preprocessing import StandardScaler\n",
    "from sklearn.linear_model import LogisticRegression\n",
    "from sklearn.pipeline import make_pipeline\n",
    "import itertools\n",
    "from itertools import combinations, permutations, chain\n",
    "\n",
    "import shap\n",
    "\n",
    "warnings.filterwarnings(\"ignore\")\n",
    "import networkx as nx\n",
    "import matplotlib.pyplot as plt\n",
    "import seaborn as sns\n",
    "\n",
    "from imblearn.under_sampling import RandomUnderSampler\n",
    "\n",
    "from pgmpy.models import BayesianNetwork\n",
    "from pgmpy.inference import VariableElimination\n",
    "from pgmpy.factors.discrete.CPD import TabularCPD"
   ]
  },
  {
   "cell_type": "markdown",
   "metadata": {},
   "source": [
    "## Import dataset"
   ]
  },
  {
   "cell_type": "code",
   "execution_count": 2,
   "metadata": {},
   "outputs": [],
   "source": [
    "categorical_cols = ['global_active_power', 'global_reactive_power', 'voltage',\n",
    "                    'global_intensity', 'kitchen', 'laundry', 'climate_control', 'other',\n",
    "                    'weekend', 'month_name', 'season_name', 'day_name']  # list all columns that are categorical"
   ]
  },
  {
   "cell_type": "code",
   "execution_count": 3,
   "metadata": {},
   "outputs": [],
   "source": [
    "dataset = pd.read_csv('./datasets/2.0-discretized-v2-3-peak-label-encoded.csv')"
   ]
  },
  {
   "cell_type": "code",
   "execution_count": 4,
   "metadata": {},
   "outputs": [
    {
     "data": {
      "text/plain": [
       "array([[False],\n",
       "       [False],\n",
       "       [False],\n",
       "       ...,\n",
       "       [False],\n",
       "       [False],\n",
       "       [False]])"
      ]
     },
     "execution_count": 4,
     "metadata": {},
     "output_type": "execute_result"
    }
   ],
   "source": [
    "dataset[['peak_warning']].values"
   ]
  },
  {
   "cell_type": "code",
   "execution_count": 5,
   "metadata": {},
   "outputs": [],
   "source": [
    "targets = ['peak_label_pred', 'peak_warning', 'no_significant_change', 'lower_than_usual']\n",
    "targets_only = ['peak_label_pred', 'no_significant_change', 'lower_than_usual']"
   ]
  },
  {
   "cell_type": "code",
   "execution_count": 6,
   "metadata": {},
   "outputs": [
    {
     "data": {
      "text/plain": [
       "Index(['global_active_power', 'global_reactive_power', 'voltage',\n",
       "       'global_intensity', 'kitchen', 'laundry', 'climate_control', 'other',\n",
       "       'weekend', 'month_name', 'season_name', 'day_name', 'peak_label_pred',\n",
       "       'peak_warning', 'no_significant_change', 'lower_than_usual'],\n",
       "      dtype='object')"
      ]
     },
     "execution_count": 6,
     "metadata": {},
     "output_type": "execute_result"
    }
   ],
   "source": [
    "dataset.columns"
   ]
  },
  {
   "cell_type": "code",
   "execution_count": 7,
   "metadata": {},
   "outputs": [
    {
     "data": {
      "text/plain": [
       "array([False, False, False, ..., False, False, False])"
      ]
     },
     "execution_count": 7,
     "metadata": {},
     "output_type": "execute_result"
    }
   ],
   "source": [
    "dataset['peak_warning'].values"
   ]
  },
  {
   "cell_type": "code",
   "execution_count": 8,
   "metadata": {},
   "outputs": [
    {
     "data": {
      "text/plain": [
       "(41673, 16)"
      ]
     },
     "execution_count": 8,
     "metadata": {},
     "output_type": "execute_result"
    }
   ],
   "source": [
    "dataset.shape"
   ]
  },
  {
   "cell_type": "code",
   "execution_count": 58,
   "metadata": {},
   "outputs": [
    {
     "data": {
      "text/html": [
       "<div>\n",
       "<style scoped>\n",
       "    .dataframe tbody tr th:only-of-type {\n",
       "        vertical-align: middle;\n",
       "    }\n",
       "\n",
       "    .dataframe tbody tr th {\n",
       "        vertical-align: top;\n",
       "    }\n",
       "\n",
       "    .dataframe thead th {\n",
       "        text-align: right;\n",
       "    }\n",
       "</style>\n",
       "<table border=\"1\" class=\"dataframe\">\n",
       "  <thead>\n",
       "    <tr style=\"text-align: right;\">\n",
       "      <th></th>\n",
       "      <th>global_active_power</th>\n",
       "      <th>global_reactive_power</th>\n",
       "      <th>voltage</th>\n",
       "      <th>global_intensity</th>\n",
       "      <th>kitchen</th>\n",
       "      <th>laundry</th>\n",
       "      <th>climate_control</th>\n",
       "      <th>other</th>\n",
       "      <th>weekend</th>\n",
       "      <th>month_name</th>\n",
       "      <th>season_name</th>\n",
       "      <th>day_name</th>\n",
       "      <th>peak_label_pred</th>\n",
       "      <th>peak_warning</th>\n",
       "      <th>no_significant_change</th>\n",
       "      <th>lower_than_usual</th>\n",
       "    </tr>\n",
       "  </thead>\n",
       "  <tbody>\n",
       "    <tr>\n",
       "      <th>20547</th>\n",
       "      <td>Very High</td>\n",
       "      <td>High</td>\n",
       "      <td>Low</td>\n",
       "      <td>Very High</td>\n",
       "      <td>Very High</td>\n",
       "      <td>Very High</td>\n",
       "      <td>Very High</td>\n",
       "      <td>Very High</td>\n",
       "      <td>False</td>\n",
       "      <td>june</td>\n",
       "      <td>summer</td>\n",
       "      <td>thursday</td>\n",
       "      <td>peak_warning</td>\n",
       "      <td>True</td>\n",
       "      <td>False</td>\n",
       "      <td>False</td>\n",
       "    </tr>\n",
       "    <tr>\n",
       "      <th>6154</th>\n",
       "      <td>Medium</td>\n",
       "      <td>High</td>\n",
       "      <td>High</td>\n",
       "      <td>Medium</td>\n",
       "      <td>High</td>\n",
       "      <td>Very High</td>\n",
       "      <td>Medium</td>\n",
       "      <td>High</td>\n",
       "      <td>False</td>\n",
       "      <td>july</td>\n",
       "      <td>summer</td>\n",
       "      <td>wednesday</td>\n",
       "      <td>no_significant_change</td>\n",
       "      <td>False</td>\n",
       "      <td>True</td>\n",
       "      <td>False</td>\n",
       "    </tr>\n",
       "    <tr>\n",
       "      <th>13644</th>\n",
       "      <td>High</td>\n",
       "      <td>Medium</td>\n",
       "      <td>Very High</td>\n",
       "      <td>High</td>\n",
       "      <td>Low</td>\n",
       "      <td>Low</td>\n",
       "      <td>Low</td>\n",
       "      <td>Very High</td>\n",
       "      <td>False</td>\n",
       "      <td>january</td>\n",
       "      <td>winter</td>\n",
       "      <td>wednesday</td>\n",
       "      <td>no_significant_change</td>\n",
       "      <td>False</td>\n",
       "      <td>True</td>\n",
       "      <td>False</td>\n",
       "    </tr>\n",
       "    <tr>\n",
       "      <th>5160</th>\n",
       "      <td>High</td>\n",
       "      <td>Medium</td>\n",
       "      <td>High</td>\n",
       "      <td>High</td>\n",
       "      <td>High</td>\n",
       "      <td>Medium</td>\n",
       "      <td>Very High</td>\n",
       "      <td>Medium</td>\n",
       "      <td>True</td>\n",
       "      <td>march</td>\n",
       "      <td>spring</td>\n",
       "      <td>sunday</td>\n",
       "      <td>no_significant_change</td>\n",
       "      <td>False</td>\n",
       "      <td>True</td>\n",
       "      <td>False</td>\n",
       "    </tr>\n",
       "    <tr>\n",
       "      <th>20478</th>\n",
       "      <td>Very High</td>\n",
       "      <td>Low</td>\n",
       "      <td>Low</td>\n",
       "      <td>Very High</td>\n",
       "      <td>Low</td>\n",
       "      <td>Low</td>\n",
       "      <td>High</td>\n",
       "      <td>Very High</td>\n",
       "      <td>False</td>\n",
       "      <td>november</td>\n",
       "      <td>autumn</td>\n",
       "      <td>wednesday</td>\n",
       "      <td>peak_warning</td>\n",
       "      <td>True</td>\n",
       "      <td>False</td>\n",
       "      <td>False</td>\n",
       "    </tr>\n",
       "  </tbody>\n",
       "</table>\n",
       "</div>"
      ],
      "text/plain": [
       "      global_active_power global_reactive_power    voltage global_intensity  \\\n",
       "20547           Very High                  High        Low        Very High   \n",
       "6154               Medium                  High       High           Medium   \n",
       "13644                High                Medium  Very High             High   \n",
       "5160                 High                Medium       High             High   \n",
       "20478           Very High                   Low        Low        Very High   \n",
       "\n",
       "         kitchen    laundry climate_control      other  weekend month_name  \\\n",
       "20547  Very High  Very High       Very High  Very High    False       june   \n",
       "6154        High  Very High          Medium       High    False       july   \n",
       "13644        Low        Low             Low  Very High    False    january   \n",
       "5160        High     Medium       Very High     Medium     True      march   \n",
       "20478        Low        Low            High  Very High    False   november   \n",
       "\n",
       "      season_name   day_name        peak_label_pred  peak_warning  \\\n",
       "20547      summer   thursday           peak_warning          True   \n",
       "6154       summer  wednesday  no_significant_change         False   \n",
       "13644      winter  wednesday  no_significant_change         False   \n",
       "5160       spring     sunday  no_significant_change         False   \n",
       "20478      autumn  wednesday           peak_warning          True   \n",
       "\n",
       "       no_significant_change  lower_than_usual  \n",
       "20547                  False             False  \n",
       "6154                    True             False  \n",
       "13644                   True             False  \n",
       "5160                    True             False  \n",
       "20478                  False             False  "
      ]
     },
     "execution_count": 58,
     "metadata": {},
     "output_type": "execute_result"
    }
   ],
   "source": [
    "sample = 5\n",
    "background = dataset.drop(columns=targets).sample(sample, random_state=3)\n",
    "indexes = background.index.tolist()\n",
    "dataset.iloc[indexes]"
   ]
  },
  {
   "cell_type": "code",
   "execution_count": 97,
   "metadata": {},
   "outputs": [
    {
     "name": "stdout",
     "output_type": "stream",
     "text": [
      "=================\n",
      "non dataframe instance\n",
      "Finding outcome based on prediction result with data Shape (5, 12)...\n",
      "Output shape from custom_predict: (5, 1)\n",
      "Done...\n",
      "\n"
     ]
    }
   ],
   "source": [
    "_data = dataset.drop(columns=targets_only)\n",
    "\n",
    "def find_outcome(observation):\n",
    "    # Iterate through each record in the data\n",
    "    # print(len(data.values))\n",
    "    for record in _data.values:\n",
    "        # print('obs', observation)\n",
    "        if (record[:-1] == observation).all():\n",
    "            # print('Found!')\n",
    "            # print('Record: ', record)\n",
    "            # print('Observation: ', observation)\n",
    "            return record[-1]  # Return the last item (True/False) if there's a match\n",
    "    return None  # Return None if  no match is found\n",
    "\n",
    "def custom_predict(data):\n",
    "    # Debugging to check input data shape\n",
    "    print('=================')\n",
    "    # print(\"Input shape to custom_predict:\", data.shape)\n",
    "    # if data.shape[0] == 621600:\n",
    "    #     print(data)\n",
    "\n",
    "    # Assuming boolean to integer conversion as before\n",
    "    predictions = []\n",
    "    # encode = {True: 1.0, False: 0.0}\n",
    "    encode = {True: 1.0, False: 0.0, None: random.uniform(0.4, 0.6)}\n",
    "    if isinstance(data, pd.DataFrame):\n",
    "        print('dataframe instance')\n",
    "        predictions = data['peak_warning'].apply(lambda x: encode[x]).values\n",
    "    else:\n",
    "        print('non dataframe instance')\n",
    "        # predictions = np.array([encode[bool(p)] for p in data[:, -1]])\n",
    "        # print(predictions)\n",
    "        # print(p)\n",
    "        print(f'Finding outcome based on prediction result with data Shape {data.shape}...')\n",
    "        for observation in data[:,:]:\n",
    "            predictions.append(encode[find_outcome(observation)])\n",
    "            # print(predictions)\n",
    "            # break\n",
    "        # print(predictions)\n",
    "        predictions = np.array(predictions)\n",
    "        \n",
    "    # print('data', data)\n",
    "    \n",
    "    # Ensure the output is correctly shaped\n",
    "    predictions = predictions.reshape(-1, 1)\n",
    "    print(\"Output shape from custom_predict:\", predictions.shape)\n",
    "    print('Done...')\n",
    "    print('')\n",
    "    return predictions\n",
    "explainer = shap.KernelExplainer(custom_predict, background)"
   ]
  },
  {
   "cell_type": "code",
   "execution_count": null,
   "metadata": {},
   "outputs": [],
   "source": []
  },
  {
   "cell_type": "code",
   "execution_count": 98,
   "metadata": {},
   "outputs": [
    {
     "name": "stderr",
     "output_type": "stream",
     "text": [
      "INFO:shap:num_full_subsets = 3\n",
      "INFO:shap:remaining_weight_vector = array([0.35673839, 0.32616082, 0.31710079])\n",
      "INFO:shap:num_paired_subset_sizes = 5\n",
      "INFO:shap:weight_left = 0.2929005745959313\n"
     ]
    },
    {
     "name": "stdout",
     "output_type": "stream",
     "text": [
      "Observation shape before SHAP: (1, 12)\n",
      "=================\n",
      "non dataframe instance\n",
      "Finding outcome based on prediction result with data Shape (1, 12)...\n",
      "Output shape from custom_predict: (1, 1)\n",
      "Done...\n",
      "\n",
      "=================\n",
      "non dataframe instance\n",
      "Finding outcome based on prediction result with data Shape (10360, 12)...\n"
     ]
    },
    {
     "ename": "KeyboardInterrupt",
     "evalue": "",
     "output_type": "error",
     "traceback": [
      "\u001b[1;31m---------------------------------------------------------------------------\u001b[0m",
      "\u001b[1;31mKeyboardInterrupt\u001b[0m                         Traceback (most recent call last)",
      "Cell \u001b[1;32mIn[98], line 6\u001b[0m\n\u001b[0;32m      2\u001b[0m \u001b[38;5;28mprint\u001b[39m(\u001b[38;5;124m\"\u001b[39m\u001b[38;5;124mObservation shape before SHAP:\u001b[39m\u001b[38;5;124m\"\u001b[39m, observation\u001b[38;5;241m.\u001b[39mshape)\n\u001b[0;32m      4\u001b[0m \u001b[38;5;28;01mtry\u001b[39;00m:\n\u001b[0;32m      5\u001b[0m     \u001b[38;5;66;03m# shap_values = explainer.shap_values(observation)\u001b[39;00m\n\u001b[1;32m----> 6\u001b[0m     shap_values \u001b[38;5;241m=\u001b[39m \u001b[43mexplainer\u001b[49m\u001b[38;5;241;43m.\u001b[39;49m\u001b[43mshap_values\u001b[49m\u001b[43m(\u001b[49m\u001b[43mbackground\u001b[49m\u001b[38;5;241;43m.\u001b[39;49m\u001b[43miloc\u001b[49m\u001b[43m[\u001b[49m\u001b[38;5;241;43m0\u001b[39;49m\u001b[43m]\u001b[49m\u001b[43m)\u001b[49m\n\u001b[0;32m      7\u001b[0m \u001b[38;5;28;01mexcept\u001b[39;00m \u001b[38;5;167;01mException\u001b[39;00m \u001b[38;5;28;01mas\u001b[39;00m e:\n\u001b[0;32m      8\u001b[0m     \u001b[38;5;28mprint\u001b[39m(\u001b[38;5;124m\"\u001b[39m\u001b[38;5;124mError during SHAP computation:\u001b[39m\u001b[38;5;124m\"\u001b[39m, e)\n",
      "File \u001b[1;32mc:\\Users\\sclab\\anaconda3\\envs\\xai2\\lib\\site-packages\\shap\\explainers\\_kernel.py:221\u001b[0m, in \u001b[0;36mKernelExplainer.shap_values\u001b[1;34m(self, X, **kwargs)\u001b[0m\n\u001b[0;32m    219\u001b[0m \u001b[38;5;28;01mif\u001b[39;00m \u001b[38;5;28mself\u001b[39m\u001b[38;5;241m.\u001b[39mkeep_index:\n\u001b[0;32m    220\u001b[0m     data \u001b[38;5;241m=\u001b[39m convert_to_instance_with_index(data, column_name, index_name, index_value)\n\u001b[1;32m--> 221\u001b[0m explanation \u001b[38;5;241m=\u001b[39m \u001b[38;5;28mself\u001b[39m\u001b[38;5;241m.\u001b[39mexplain(data, \u001b[38;5;241m*\u001b[39m\u001b[38;5;241m*\u001b[39mkwargs)\n\u001b[0;32m    223\u001b[0m \u001b[38;5;66;03m# vector-output\u001b[39;00m\n\u001b[0;32m    224\u001b[0m s \u001b[38;5;241m=\u001b[39m explanation\u001b[38;5;241m.\u001b[39mshape\n",
      "File \u001b[1;32mc:\\Users\\sclab\\anaconda3\\envs\\xai2\\lib\\site-packages\\shap\\explainers\\_kernel.py:442\u001b[0m, in \u001b[0;36mKernelExplainer.explain\u001b[1;34m(self, incoming_instance, **kwargs)\u001b[0m\n\u001b[0;32m    439\u001b[0m     \u001b[38;5;28mself\u001b[39m\u001b[38;5;241m.\u001b[39mkernelWeights[nfixed_samples:] \u001b[38;5;241m*\u001b[39m\u001b[38;5;241m=\u001b[39m weight_left \u001b[38;5;241m/\u001b[39m \u001b[38;5;28mself\u001b[39m\u001b[38;5;241m.\u001b[39mkernelWeights[nfixed_samples:]\u001b[38;5;241m.\u001b[39msum()\n\u001b[0;32m    441\u001b[0m \u001b[38;5;66;03m# execute the model on the synthetic samples we have created\u001b[39;00m\n\u001b[1;32m--> 442\u001b[0m \u001b[38;5;28;43mself\u001b[39;49m\u001b[38;5;241;43m.\u001b[39;49m\u001b[43mrun\u001b[49m\u001b[43m(\u001b[49m\u001b[43m)\u001b[49m\n\u001b[0;32m    444\u001b[0m \u001b[38;5;66;03m# solve then expand the feature importance (Shapley value) vector to contain the non-varying features\u001b[39;00m\n\u001b[0;32m    445\u001b[0m phi \u001b[38;5;241m=\u001b[39m np\u001b[38;5;241m.\u001b[39mzeros((\u001b[38;5;28mself\u001b[39m\u001b[38;5;241m.\u001b[39mdata\u001b[38;5;241m.\u001b[39mgroups_size, \u001b[38;5;28mself\u001b[39m\u001b[38;5;241m.\u001b[39mD))\n",
      "File \u001b[1;32mc:\\Users\\sclab\\anaconda3\\envs\\xai2\\lib\\site-packages\\shap\\explainers\\_kernel.py:581\u001b[0m, in \u001b[0;36mKernelExplainer.run\u001b[1;34m(self)\u001b[0m\n\u001b[0;32m    579\u001b[0m     \u001b[38;5;28;01mif\u001b[39;00m \u001b[38;5;28mself\u001b[39m\u001b[38;5;241m.\u001b[39mkeep_index_ordered:\n\u001b[0;32m    580\u001b[0m         data \u001b[38;5;241m=\u001b[39m data\u001b[38;5;241m.\u001b[39msort_index()\n\u001b[1;32m--> 581\u001b[0m modelOut \u001b[38;5;241m=\u001b[39m \u001b[38;5;28;43mself\u001b[39;49m\u001b[38;5;241;43m.\u001b[39;49m\u001b[43mmodel\u001b[49m\u001b[38;5;241;43m.\u001b[39;49m\u001b[43mf\u001b[49m\u001b[43m(\u001b[49m\u001b[43mdata\u001b[49m\u001b[43m)\u001b[49m\n\u001b[0;32m    582\u001b[0m \u001b[38;5;28;01mif\u001b[39;00m \u001b[38;5;28misinstance\u001b[39m(modelOut, (pd\u001b[38;5;241m.\u001b[39mDataFrame, pd\u001b[38;5;241m.\u001b[39mSeries)):\n\u001b[0;32m    583\u001b[0m     modelOut \u001b[38;5;241m=\u001b[39m modelOut\u001b[38;5;241m.\u001b[39mvalues\n",
      "Cell \u001b[1;32mIn[97], line 36\u001b[0m, in \u001b[0;36mcustom_predict\u001b[1;34m(data)\u001b[0m\n\u001b[0;32m     34\u001b[0m \u001b[38;5;28mprint\u001b[39m(\u001b[38;5;124mf\u001b[39m\u001b[38;5;124m'\u001b[39m\u001b[38;5;124mFinding outcome based on prediction result with data Shape \u001b[39m\u001b[38;5;132;01m{\u001b[39;00mdata\u001b[38;5;241m.\u001b[39mshape\u001b[38;5;132;01m}\u001b[39;00m\u001b[38;5;124m...\u001b[39m\u001b[38;5;124m'\u001b[39m)\n\u001b[0;32m     35\u001b[0m \u001b[38;5;28;01mfor\u001b[39;00m observation \u001b[38;5;129;01min\u001b[39;00m data[:,:]:\n\u001b[1;32m---> 36\u001b[0m     predictions\u001b[38;5;241m.\u001b[39mappend(encode[\u001b[43mfind_outcome\u001b[49m\u001b[43m(\u001b[49m\u001b[43mobservation\u001b[49m\u001b[43m)\u001b[49m])\n\u001b[0;32m     37\u001b[0m     \u001b[38;5;66;03m# print(predictions)\u001b[39;00m\n\u001b[0;32m     38\u001b[0m     \u001b[38;5;66;03m# break\u001b[39;00m\n\u001b[0;32m     39\u001b[0m \u001b[38;5;66;03m# print(predictions)\u001b[39;00m\n\u001b[0;32m     40\u001b[0m predictions \u001b[38;5;241m=\u001b[39m np\u001b[38;5;241m.\u001b[39marray(predictions)\n",
      "Cell \u001b[1;32mIn[97], line 8\u001b[0m, in \u001b[0;36mfind_outcome\u001b[1;34m(observation)\u001b[0m\n\u001b[0;32m      3\u001b[0m \u001b[38;5;28;01mdef\u001b[39;00m \u001b[38;5;21mfind_outcome\u001b[39m(observation):\n\u001b[0;32m      4\u001b[0m     \u001b[38;5;66;03m# Iterate through each record in the data\u001b[39;00m\n\u001b[0;32m      5\u001b[0m     \u001b[38;5;66;03m# print(len(data.values))\u001b[39;00m\n\u001b[0;32m      6\u001b[0m     \u001b[38;5;28;01mfor\u001b[39;00m record \u001b[38;5;129;01min\u001b[39;00m _data\u001b[38;5;241m.\u001b[39mvalues:\n\u001b[0;32m      7\u001b[0m         \u001b[38;5;66;03m# print('obs', observation)\u001b[39;00m\n\u001b[1;32m----> 8\u001b[0m         \u001b[38;5;28;01mif\u001b[39;00m \u001b[43m(\u001b[49m\u001b[43mrecord\u001b[49m\u001b[43m[\u001b[49m\u001b[43m:\u001b[49m\u001b[38;5;241;43m-\u001b[39;49m\u001b[38;5;241;43m1\u001b[39;49m\u001b[43m]\u001b[49m\u001b[43m \u001b[49m\u001b[38;5;241;43m==\u001b[39;49m\u001b[43m \u001b[49m\u001b[43mobservation\u001b[49m\u001b[43m)\u001b[49m\u001b[38;5;241;43m.\u001b[39;49m\u001b[43mall\u001b[49m():\n\u001b[0;32m      9\u001b[0m             \u001b[38;5;66;03m# print('Found!')\u001b[39;00m\n\u001b[0;32m     10\u001b[0m             \u001b[38;5;66;03m# print('Record: ', record)\u001b[39;00m\n\u001b[0;32m     11\u001b[0m             \u001b[38;5;66;03m# print('Observation: ', observation)\u001b[39;00m\n\u001b[0;32m     12\u001b[0m             \u001b[38;5;28;01mreturn\u001b[39;00m record[\u001b[38;5;241m-\u001b[39m\u001b[38;5;241m1\u001b[39m]  \u001b[38;5;66;03m# Return the last item (True/False) if there's a match\u001b[39;00m\n\u001b[0;32m     13\u001b[0m     \u001b[38;5;28;01mreturn\u001b[39;00m \u001b[38;5;28;01mNone\u001b[39;00m\n",
      "\u001b[1;31mKeyboardInterrupt\u001b[0m: "
     ]
    }
   ],
   "source": [
    "observation = dataset.drop(columns=targets).iloc[0:1]\n",
    "print(\"Observation shape before SHAP:\", observation.shape)\n",
    "\n",
    "try:\n",
    "    shap_values = explainer.shap_values(observation)\n",
    "    # shap_values = explainer.shap_values(background.iloc[0])\n",
    "except Exception as e:\n",
    "    print(\"Error during SHAP computation:\", e)\n"
   ]
  },
  {
   "cell_type": "code",
   "execution_count": 96,
   "metadata": {},
   "outputs": [
    {
     "data": {
      "text/plain": [
       "(global_active_power      Very High\n",
       " global_reactive_power         High\n",
       " voltage                        Low\n",
       " global_intensity         Very High\n",
       " kitchen                  Very High\n",
       " laundry                  Very High\n",
       " climate_control          Very High\n",
       " other                    Very High\n",
       " weekend                      False\n",
       " month_name                    june\n",
       " season_name                 summer\n",
       " day_name                  thursday\n",
       " Name: 20547, dtype: object,\n",
       " [array([0.06750736, 0.06119605, 0.05591374, 0.06659701, 0.0617724 ,\n",
       "         0.03722669, 0.05982764, 0.04730058, 0.02276787, 0.03591255,\n",
       "         0.03013683, 0.05384128])])"
      ]
     },
     "execution_count": 96,
     "metadata": {},
     "output_type": "execute_result"
    }
   ],
   "source": [
    "background.iloc[0], shap_values"
   ]
  },
  {
   "cell_type": "code",
   "execution_count": 46,
   "metadata": {},
   "outputs": [],
   "source": [
    "data = background.values"
   ]
  },
  {
   "cell_type": "code",
   "execution_count": 47,
   "metadata": {},
   "outputs": [
    {
     "data": {
      "text/html": [
       "<div>\n",
       "<style scoped>\n",
       "    .dataframe tbody tr th:only-of-type {\n",
       "        vertical-align: middle;\n",
       "    }\n",
       "\n",
       "    .dataframe tbody tr th {\n",
       "        vertical-align: top;\n",
       "    }\n",
       "\n",
       "    .dataframe thead th {\n",
       "        text-align: right;\n",
       "    }\n",
       "</style>\n",
       "<table border=\"1\" class=\"dataframe\">\n",
       "  <thead>\n",
       "    <tr style=\"text-align: right;\">\n",
       "      <th></th>\n",
       "      <th>global_active_power</th>\n",
       "      <th>global_reactive_power</th>\n",
       "      <th>voltage</th>\n",
       "      <th>global_intensity</th>\n",
       "      <th>kitchen</th>\n",
       "      <th>laundry</th>\n",
       "      <th>climate_control</th>\n",
       "      <th>other</th>\n",
       "      <th>weekend</th>\n",
       "      <th>month_name</th>\n",
       "      <th>season_name</th>\n",
       "      <th>day_name</th>\n",
       "      <th>peak_warning</th>\n",
       "    </tr>\n",
       "  </thead>\n",
       "  <tbody>\n",
       "    <tr>\n",
       "      <th>0</th>\n",
       "      <td>Very High</td>\n",
       "      <td>Low</td>\n",
       "      <td>Low</td>\n",
       "      <td>Very High</td>\n",
       "      <td>High</td>\n",
       "      <td>Medium</td>\n",
       "      <td>High</td>\n",
       "      <td>Very High</td>\n",
       "      <td>True</td>\n",
       "      <td>march</td>\n",
       "      <td>spring</td>\n",
       "      <td>saturday</td>\n",
       "      <td>False</td>\n",
       "    </tr>\n",
       "    <tr>\n",
       "      <th>1</th>\n",
       "      <td>High</td>\n",
       "      <td>Low</td>\n",
       "      <td>High</td>\n",
       "      <td>High</td>\n",
       "      <td>Low</td>\n",
       "      <td>Low</td>\n",
       "      <td>High</td>\n",
       "      <td>High</td>\n",
       "      <td>False</td>\n",
       "      <td>january</td>\n",
       "      <td>winter</td>\n",
       "      <td>thursday</td>\n",
       "      <td>False</td>\n",
       "    </tr>\n",
       "    <tr>\n",
       "      <th>2</th>\n",
       "      <td>Very High</td>\n",
       "      <td>High</td>\n",
       "      <td>High</td>\n",
       "      <td>Very High</td>\n",
       "      <td>Medium</td>\n",
       "      <td>Medium</td>\n",
       "      <td>Very High</td>\n",
       "      <td>Very High</td>\n",
       "      <td>False</td>\n",
       "      <td>january</td>\n",
       "      <td>winter</td>\n",
       "      <td>friday</td>\n",
       "      <td>False</td>\n",
       "    </tr>\n",
       "    <tr>\n",
       "      <th>3</th>\n",
       "      <td>Low</td>\n",
       "      <td>Low</td>\n",
       "      <td>Low</td>\n",
       "      <td>Low</td>\n",
       "      <td>Medium</td>\n",
       "      <td>Low</td>\n",
       "      <td>Low</td>\n",
       "      <td>Medium</td>\n",
       "      <td>False</td>\n",
       "      <td>february</td>\n",
       "      <td>winter</td>\n",
       "      <td>friday</td>\n",
       "      <td>False</td>\n",
       "    </tr>\n",
       "    <tr>\n",
       "      <th>4</th>\n",
       "      <td>Very High</td>\n",
       "      <td>Low</td>\n",
       "      <td>Very High</td>\n",
       "      <td>Very High</td>\n",
       "      <td>Low</td>\n",
       "      <td>Low</td>\n",
       "      <td>Low</td>\n",
       "      <td>Very High</td>\n",
       "      <td>True</td>\n",
       "      <td>december</td>\n",
       "      <td>winter</td>\n",
       "      <td>saturday</td>\n",
       "      <td>False</td>\n",
       "    </tr>\n",
       "    <tr>\n",
       "      <th>...</th>\n",
       "      <td>...</td>\n",
       "      <td>...</td>\n",
       "      <td>...</td>\n",
       "      <td>...</td>\n",
       "      <td>...</td>\n",
       "      <td>...</td>\n",
       "      <td>...</td>\n",
       "      <td>...</td>\n",
       "      <td>...</td>\n",
       "      <td>...</td>\n",
       "      <td>...</td>\n",
       "      <td>...</td>\n",
       "      <td>...</td>\n",
       "    </tr>\n",
       "    <tr>\n",
       "      <th>41668</th>\n",
       "      <td>Low</td>\n",
       "      <td>Low</td>\n",
       "      <td>Very High</td>\n",
       "      <td>Low</td>\n",
       "      <td>Low</td>\n",
       "      <td>Low</td>\n",
       "      <td>Low</td>\n",
       "      <td>Medium</td>\n",
       "      <td>True</td>\n",
       "      <td>january</td>\n",
       "      <td>winter</td>\n",
       "      <td>saturday</td>\n",
       "      <td>False</td>\n",
       "    </tr>\n",
       "    <tr>\n",
       "      <th>41669</th>\n",
       "      <td>Medium</td>\n",
       "      <td>Medium</td>\n",
       "      <td>Very High</td>\n",
       "      <td>Medium</td>\n",
       "      <td>High</td>\n",
       "      <td>Medium</td>\n",
       "      <td>Medium</td>\n",
       "      <td>High</td>\n",
       "      <td>False</td>\n",
       "      <td>february</td>\n",
       "      <td>winter</td>\n",
       "      <td>tuesday</td>\n",
       "      <td>False</td>\n",
       "    </tr>\n",
       "    <tr>\n",
       "      <th>41670</th>\n",
       "      <td>Medium</td>\n",
       "      <td>Very High</td>\n",
       "      <td>High</td>\n",
       "      <td>Medium</td>\n",
       "      <td>Low</td>\n",
       "      <td>High</td>\n",
       "      <td>Low</td>\n",
       "      <td>High</td>\n",
       "      <td>False</td>\n",
       "      <td>april</td>\n",
       "      <td>spring</td>\n",
       "      <td>tuesday</td>\n",
       "      <td>False</td>\n",
       "    </tr>\n",
       "    <tr>\n",
       "      <th>41671</th>\n",
       "      <td>Low</td>\n",
       "      <td>Low</td>\n",
       "      <td>Very High</td>\n",
       "      <td>Low</td>\n",
       "      <td>High</td>\n",
       "      <td>High</td>\n",
       "      <td>Medium</td>\n",
       "      <td>Low</td>\n",
       "      <td>True</td>\n",
       "      <td>january</td>\n",
       "      <td>winter</td>\n",
       "      <td>saturday</td>\n",
       "      <td>False</td>\n",
       "    </tr>\n",
       "    <tr>\n",
       "      <th>41672</th>\n",
       "      <td>Low</td>\n",
       "      <td>Low</td>\n",
       "      <td>High</td>\n",
       "      <td>Low</td>\n",
       "      <td>Low</td>\n",
       "      <td>Low</td>\n",
       "      <td>Low</td>\n",
       "      <td>Low</td>\n",
       "      <td>False</td>\n",
       "      <td>september</td>\n",
       "      <td>autumn</td>\n",
       "      <td>tuesday</td>\n",
       "      <td>False</td>\n",
       "    </tr>\n",
       "  </tbody>\n",
       "</table>\n",
       "<p>41673 rows × 13 columns</p>\n",
       "</div>"
      ],
      "text/plain": [
       "      global_active_power global_reactive_power    voltage global_intensity  \\\n",
       "0               Very High                   Low        Low        Very High   \n",
       "1                    High                   Low       High             High   \n",
       "2               Very High                  High       High        Very High   \n",
       "3                     Low                   Low        Low              Low   \n",
       "4               Very High                   Low  Very High        Very High   \n",
       "...                   ...                   ...        ...              ...   \n",
       "41668                 Low                   Low  Very High              Low   \n",
       "41669              Medium                Medium  Very High           Medium   \n",
       "41670              Medium             Very High       High           Medium   \n",
       "41671                 Low                   Low  Very High              Low   \n",
       "41672                 Low                   Low       High              Low   \n",
       "\n",
       "      kitchen laundry climate_control      other  weekend month_name  \\\n",
       "0        High  Medium            High  Very High     True      march   \n",
       "1         Low     Low            High       High    False    january   \n",
       "2      Medium  Medium       Very High  Very High    False    january   \n",
       "3      Medium     Low             Low     Medium    False   february   \n",
       "4         Low     Low             Low  Very High     True   december   \n",
       "...       ...     ...             ...        ...      ...        ...   \n",
       "41668     Low     Low             Low     Medium     True    january   \n",
       "41669    High  Medium          Medium       High    False   february   \n",
       "41670     Low    High             Low       High    False      april   \n",
       "41671    High    High          Medium        Low     True    january   \n",
       "41672     Low     Low             Low        Low    False  september   \n",
       "\n",
       "      season_name  day_name  peak_warning  \n",
       "0          spring  saturday         False  \n",
       "1          winter  thursday         False  \n",
       "2          winter    friday         False  \n",
       "3          winter    friday         False  \n",
       "4          winter  saturday         False  \n",
       "...           ...       ...           ...  \n",
       "41668      winter  saturday         False  \n",
       "41669      winter   tuesday         False  \n",
       "41670      spring   tuesday         False  \n",
       "41671      winter  saturday         False  \n",
       "41672      autumn   tuesday         False  \n",
       "\n",
       "[41673 rows x 13 columns]"
      ]
     },
     "execution_count": 47,
     "metadata": {},
     "output_type": "execute_result"
    }
   ],
   "source": [
    "data = dataset.drop(columns=targets_only)\n",
    "data"
   ]
  },
  {
   "cell_type": "code",
   "execution_count": 48,
   "metadata": {},
   "outputs": [
    {
     "data": {
      "text/plain": [
       "array([False, False, False,  True, False])"
      ]
     },
     "execution_count": 48,
     "metadata": {},
     "output_type": "execute_result"
    }
   ],
   "source": [
    "rand_state = 10\n",
    "observation = data.sample(5, random_state=rand_state).iloc[:,:-1].values\n",
    "real_target = data.sample(5, random_state=rand_state).iloc[:,-1].values\n",
    "real_target"
   ]
  },
  {
   "cell_type": "markdown",
   "metadata": {},
   "source": [
    "mimic predict method"
   ]
  },
  {
   "cell_type": "code",
   "execution_count": 49,
   "metadata": {},
   "outputs": [
    {
     "name": "stdout",
     "output_type": "stream",
     "text": [
      "Found!\n",
      "Record:  ['Low' 'Medium' 'Very High' 'Low' 'Very High' 'High' 'High' 'Medium' False\n",
      " 'june' 'summer' 'monday' False]\n",
      "Observation:  ['Low' 'Medium' 'Very High' 'Low' 'Very High' 'High' 'High' 'Medium' False\n",
      " 'june' 'summer' 'monday']\n",
      "outcome False\n",
      "Found!\n",
      "Record:  ['Very High' 'Very High' 'High' 'Very High' 'Medium' 'Very High' 'Low'\n",
      " 'Medium' False 'march' 'spring' 'monday' False]\n",
      "Observation:  ['Very High' 'Very High' 'High' 'Very High' 'Medium' 'Very High' 'Low'\n",
      " 'Medium' False 'march' 'spring' 'monday']\n",
      "outcome False\n",
      "Found!\n",
      "Record:  ['Medium' 'High' 'High' 'Medium' 'Low' 'Very High' 'Low' 'Medium' False\n",
      " 'august' 'summer' 'friday' False]\n",
      "Observation:  ['Medium' 'High' 'High' 'Medium' 'Low' 'Very High' 'Low' 'Medium' False\n",
      " 'august' 'summer' 'friday']\n",
      "outcome False\n",
      "Found!\n",
      "Record:  ['Very High' 'High' 'Low' 'Very High' 'Very High' 'High' 'Very High'\n",
      " 'Very High' False 'october' 'autumn' 'tuesday' True]\n",
      "Observation:  ['Very High' 'High' 'Low' 'Very High' 'Very High' 'High' 'Very High'\n",
      " 'Very High' False 'october' 'autumn' 'tuesday']\n",
      "outcome True\n",
      "Found!\n",
      "Record:  ['Very High' 'Medium' 'Low' 'Very High' 'Very High' 'Very High' 'High'\n",
      " 'High' False 'december' 'winter' 'thursday' False]\n",
      "Observation:  ['Very High' 'Medium' 'Low' 'Very High' 'Very High' 'Very High' 'High'\n",
      " 'High' False 'december' 'winter' 'thursday']\n",
      "outcome False\n"
     ]
    }
   ],
   "source": [
    "def find_outcome(data, observation):\n",
    "    # Iterate through each record in the data\n",
    "    # print(len(data.values))\n",
    "    for record in data.values:\n",
    "        # print('obs', observation)\n",
    "        if (record[:-1] == observation).all():\n",
    "            print('Found!')\n",
    "            print('Record: ', record)\n",
    "            print('Observation: ', observation)\n",
    "            return record[-1]  # Return the last item (True/False) if there's a match\n",
    "    return None  # Return None if  no match is found\n",
    "\n",
    "# for obs in observation:\n",
    "# print(observation)\n",
    "for obs in observation:\n",
    "    outcome = find_outcome(data, obs)\n",
    "    print('outcome', outcome)\n",
    "    # print(\"The outcome for observation\", obs, \"is:\", outcome)\n"
   ]
  },
  {
   "cell_type": "markdown",
   "metadata": {},
   "source": [
    "old"
   ]
  },
  {
   "cell_type": "code",
   "execution_count": 204,
   "metadata": {},
   "outputs": [
    {
     "ename": "AttributeError",
     "evalue": "'numpy.ndarray' object has no attribute 'values'",
     "output_type": "error",
     "traceback": [
      "\u001b[1;31m---------------------------------------------------------------------------\u001b[0m",
      "\u001b[1;31mAttributeError\u001b[0m                            Traceback (most recent call last)",
      "Cell \u001b[1;32mIn[204], line 8\u001b[0m\n\u001b[0;32m      5\u001b[0m             \u001b[38;5;28;01mreturn\u001b[39;00m record[\u001b[38;5;241m-\u001b[39m\u001b[38;5;241m1\u001b[39m]  \u001b[38;5;66;03m# Return the last item (True/False) if there's a match\u001b[39;00m\n\u001b[0;32m      6\u001b[0m     \u001b[38;5;28;01mreturn\u001b[39;00m \u001b[38;5;28;01mNone\u001b[39;00m  \u001b[38;5;66;03m# Return None if  no match is found\u001b[39;00m\n\u001b[1;32m----> 8\u001b[0m outcome \u001b[38;5;241m=\u001b[39m \u001b[43mfind_outcome\u001b[49m\u001b[43m(\u001b[49m\u001b[43mdata\u001b[49m\u001b[43m,\u001b[49m\u001b[43m \u001b[49m\u001b[43mobservation\u001b[49m\u001b[43m)\u001b[49m\n\u001b[0;32m      9\u001b[0m \u001b[38;5;28mprint\u001b[39m(\u001b[38;5;124m\"\u001b[39m\u001b[38;5;124mThe outcome for observation\u001b[39m\u001b[38;5;124m\"\u001b[39m, observation, \u001b[38;5;124m\"\u001b[39m\u001b[38;5;124mis:\u001b[39m\u001b[38;5;124m\"\u001b[39m, outcome)\n",
      "Cell \u001b[1;32mIn[204], line 4\u001b[0m, in \u001b[0;36mfind_outcome\u001b[1;34m(data, observation)\u001b[0m\n\u001b[0;32m      1\u001b[0m \u001b[38;5;28;01mdef\u001b[39;00m \u001b[38;5;21mfind_outcome\u001b[39m(data, observation):\n\u001b[0;32m      2\u001b[0m     \u001b[38;5;66;03m# Iterate through each record in the data\u001b[39;00m\n\u001b[0;32m      3\u001b[0m     \u001b[38;5;28;01mfor\u001b[39;00m record \u001b[38;5;129;01min\u001b[39;00m data:\n\u001b[1;32m----> 4\u001b[0m         \u001b[38;5;28;01mif\u001b[39;00m (record[:\u001b[38;5;241m-\u001b[39m\u001b[38;5;241m1\u001b[39m] \u001b[38;5;241m==\u001b[39m \u001b[43mobservation\u001b[49m\u001b[38;5;241;43m.\u001b[39;49m\u001b[43mvalues\u001b[49m[\u001b[38;5;241m0\u001b[39m][:\u001b[38;5;241m-\u001b[39m\u001b[38;5;241m1\u001b[39m])\u001b[38;5;241m.\u001b[39mall():\n\u001b[0;32m      5\u001b[0m             \u001b[38;5;28;01mreturn\u001b[39;00m record[\u001b[38;5;241m-\u001b[39m\u001b[38;5;241m1\u001b[39m]  \u001b[38;5;66;03m# Return the last item (True/False) if there's a match\u001b[39;00m\n\u001b[0;32m      6\u001b[0m     \u001b[38;5;28;01mreturn\u001b[39;00m \u001b[38;5;28;01mNone\u001b[39;00m\n",
      "\u001b[1;31mAttributeError\u001b[0m: 'numpy.ndarray' object has no attribute 'values'"
     ]
    }
   ],
   "source": [
    "def find_outcome(data, observation):\n",
    "    # Iterate through each record in the data\n",
    "    for record in data:\n",
    "        if (record[:-1] == observation.values[0][:-1]).all():\n",
    "            return record[-1]  # Return the last item (True/False) if there's a match\n",
    "    return None  # Return None if  no match is found\n",
    "\n",
    "outcome = find_outcome(data, observation)\n",
    "print(\"The outcome for observation\", observation, \"is:\", outcome)\n"
   ]
  }
 ],
 "metadata": {
  "kernelspec": {
   "display_name": "xai2",
   "language": "python",
   "name": "python3"
  },
  "language_info": {
   "codemirror_mode": {
    "name": "ipython",
    "version": 3
   },
   "file_extension": ".py",
   "mimetype": "text/x-python",
   "name": "python",
   "nbconvert_exporter": "python",
   "pygments_lexer": "ipython3",
   "version": "3.9.18"
  }
 },
 "nbformat": 4,
 "nbformat_minor": 2
}
